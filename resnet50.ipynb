{
 "cells": [
  {
   "cell_type": "code",
   "execution_count": 1,
   "id": "8f998040",
   "metadata": {
    "_cell_guid": "b1076dfc-b9ad-4769-8c92-a6c4dae69d19",
    "_uuid": "8f2839f25d086af736a60e9eeb907d3b93b6e0e5",
    "execution": {
     "iopub.execute_input": "2022-07-31T09:19:38.888694Z",
     "iopub.status.busy": "2022-07-31T09:19:38.887834Z",
     "iopub.status.idle": "2022-07-31T09:19:45.218861Z",
     "shell.execute_reply": "2022-07-31T09:19:45.218076Z"
    },
    "papermill": {
     "duration": 6.339835,
     "end_time": "2022-07-31T09:19:45.221388",
     "exception": false,
     "start_time": "2022-07-31T09:19:38.881553",
     "status": "completed"
    },
    "tags": []
   },
   "outputs": [],
   "source": [
    "import cv2\n",
    "import numpy as np\n",
    "from tensorflow.keras import layers\n",
    "from tensorflow.keras.applications import MobileNetV2\n",
    "from tensorflow.keras.callbacks import Callback, ModelCheckpoint, ReduceLROnPlateau, CSVLogger\n",
    "from tensorflow.keras.preprocessing.image import ImageDataGenerator\n",
    "from keras.layers import Input, Add, Dense, Activation, ZeroPadding2D, BatchNormalization, Flatten, Conv2D, AveragePooling2D, MaxPooling2D, GlobalMaxPooling2D,MaxPool2D\n",
    "from tensorflow.keras.models import Sequential, load_model, Model\n",
    "from tensorflow.keras.optimizers import Adam\n",
    "import matplotlib.pyplot as plt\n",
    "import pandas as pd\n",
    "from sklearn.model_selection import train_test_split\n",
    "from sklearn import metrics\n",
    "import tensorflow as tf\n",
    "from tqdm import tqdm\n",
    "from keras.initializers import glorot_uniform"
   ]
  },
  {
   "cell_type": "code",
   "execution_count": 2,
   "id": "91f4a629",
   "metadata": {
    "execution": {
     "iopub.execute_input": "2022-07-31T09:19:45.230285Z",
     "iopub.status.busy": "2022-07-31T09:19:45.229785Z",
     "iopub.status.idle": "2022-07-31T09:22:05.746569Z",
     "shell.execute_reply": "2022-07-31T09:22:05.742265Z"
    },
    "papermill": {
     "duration": 140.524034,
     "end_time": "2022-07-31T09:22:05.749410",
     "exception": false,
     "start_time": "2022-07-31T09:19:45.225376",
     "status": "completed"
    },
    "tags": []
   },
   "outputs": [
    {
     "name": "stdout",
     "output_type": "stream",
     "text": [
      "Found 100000 images belonging to 2 classes.\n",
      "Found 20000 images belonging to 2 classes.\n",
      "Found 20000 images belonging to 2 classes.\n"
     ]
    }
   ],
   "source": [
    "base_path = '../input/140k-real-and-fake-faces/real_vs_fake/real-vs-fake/'\n",
    "image_gen = ImageDataGenerator(rescale=1./255.)\n",
    "\n",
    "train_flow = image_gen.flow_from_directory(\n",
    "    base_path + 'train/',\n",
    "    target_size=(224, 224),\n",
    "    batch_size=64,\n",
    "    class_mode='binary'\n",
    ")\n",
    "\n",
    "valid_flow = image_gen.flow_from_directory(\n",
    "    base_path + 'valid/',\n",
    "    target_size=(224, 224),\n",
    "    batch_size=64,\n",
    "    class_mode='binary'\n",
    ")\n",
    "\n",
    "test_flow = image_gen.flow_from_directory(\n",
    "    base_path + 'test/',\n",
    "    target_size=(224, 224),\n",
    "    batch_size=64,\n",
    "    class_mode='binary'\n",
    ")"
   ]
  },
  {
   "cell_type": "code",
   "execution_count": 3,
   "id": "82f1349f",
   "metadata": {
    "execution": {
     "iopub.execute_input": "2022-07-31T09:22:05.759065Z",
     "iopub.status.busy": "2022-07-31T09:22:05.758764Z",
     "iopub.status.idle": "2022-07-31T09:22:05.772692Z",
     "shell.execute_reply": "2022-07-31T09:22:05.771960Z"
    },
    "papermill": {
     "duration": 0.020201,
     "end_time": "2022-07-31T09:22:05.774296",
     "exception": false,
     "start_time": "2022-07-31T09:22:05.754095",
     "status": "completed"
    },
    "tags": []
   },
   "outputs": [],
   "source": [
    "def identity_block(X, f, filters, stage, block):\n",
    "   \n",
    "    conv_name_base = 'res' + str(stage) + block + '_branch'\n",
    "    bn_name_base = 'bn' + str(stage) + block + '_branch'\n",
    "    F1, F2, F3 = filters\n",
    "\n",
    "    X_shortcut = X\n",
    "   \n",
    "    X = Conv2D(filters=F1, kernel_size=(1, 1), strides=(1, 1), padding='valid', name=conv_name_base + '2a', kernel_initializer=glorot_uniform(seed=0))(X)\n",
    "    X = BatchNormalization(axis=3, name=bn_name_base + '2a')(X)\n",
    "    X = Activation('relu')(X)\n",
    "\n",
    "    X = Conv2D(filters=F2, kernel_size=(f, f), strides=(1, 1), padding='same', name=conv_name_base + '2b', kernel_initializer=glorot_uniform(seed=0))(X)\n",
    "    X = BatchNormalization(axis=3, name=bn_name_base + '2b')(X)\n",
    "    X = Activation('relu')(X)\n",
    "\n",
    "    X = Conv2D(filters=F3, kernel_size=(1, 1), strides=(1, 1), padding='valid', name=conv_name_base + '2c', kernel_initializer=glorot_uniform(seed=0))(X)\n",
    "    X = BatchNormalization(axis=3, name=bn_name_base + '2c')(X)\n",
    "\n",
    "    X = Add()([X, X_shortcut])# SKIP Connection\n",
    "    X = Activation('relu')(X)\n",
    "\n",
    "    return X"
   ]
  },
  {
   "cell_type": "code",
   "execution_count": 4,
   "id": "0222f9db",
   "metadata": {
    "execution": {
     "iopub.execute_input": "2022-07-31T09:22:05.783005Z",
     "iopub.status.busy": "2022-07-31T09:22:05.782742Z",
     "iopub.status.idle": "2022-07-31T09:22:05.794089Z",
     "shell.execute_reply": "2022-07-31T09:22:05.793407Z"
    },
    "papermill": {
     "duration": 0.01765,
     "end_time": "2022-07-31T09:22:05.795740",
     "exception": false,
     "start_time": "2022-07-31T09:22:05.778090",
     "status": "completed"
    },
    "tags": []
   },
   "outputs": [],
   "source": [
    "def convolutional_block(X, f, filters, stage, block, s=2):\n",
    "   \n",
    "    conv_name_base = 'res' + str(stage) + block + '_branch'\n",
    "    bn_name_base = 'bn' + str(stage) + block + '_branch'\n",
    "\n",
    "    F1, F2, F3 = filters\n",
    "\n",
    "    X_shortcut = X\n",
    "\n",
    "    X = Conv2D(filters=F1, kernel_size=(1, 1), strides=(s, s), padding='valid', name=conv_name_base + '2a', kernel_initializer=glorot_uniform(seed=0))(X)\n",
    "    X = BatchNormalization(axis=3, name=bn_name_base + '2a')(X)\n",
    "    X = Activation('relu')(X)\n",
    "\n",
    "    X = Conv2D(filters=F2, kernel_size=(f, f), strides=(1, 1), padding='same', name=conv_name_base + '2b', kernel_initializer=glorot_uniform(seed=0))(X)\n",
    "    X = BatchNormalization(axis=3, name=bn_name_base + '2b')(X)\n",
    "    X = Activation('relu')(X)\n",
    "\n",
    "    X = Conv2D(filters=F3, kernel_size=(1, 1), strides=(1, 1), padding='valid', name=conv_name_base + '2c', kernel_initializer=glorot_uniform(seed=0))(X)\n",
    "    X = BatchNormalization(axis=3, name=bn_name_base + '2c')(X)\n",
    "\n",
    "    X_shortcut = Conv2D(filters=F3, kernel_size=(1, 1), strides=(s, s), padding='valid', name=conv_name_base + '1', kernel_initializer=glorot_uniform(seed=0))(X_shortcut)\n",
    "    X_shortcut = BatchNormalization(axis=3, name=bn_name_base + '1')(X_shortcut)\n",
    "\n",
    "    X = Add()([X, X_shortcut])\n",
    "    X = Activation('relu')(X)\n",
    "\n",
    "    return X"
   ]
  },
  {
   "cell_type": "code",
   "execution_count": 5,
   "id": "2b44c18f",
   "metadata": {
    "execution": {
     "iopub.execute_input": "2022-07-31T09:22:05.804392Z",
     "iopub.status.busy": "2022-07-31T09:22:05.804134Z",
     "iopub.status.idle": "2022-07-31T09:22:05.819672Z",
     "shell.execute_reply": "2022-07-31T09:22:05.819010Z"
    },
    "papermill": {
     "duration": 0.021825,
     "end_time": "2022-07-31T09:22:05.821355",
     "exception": false,
     "start_time": "2022-07-31T09:22:05.799530",
     "status": "completed"
    },
    "tags": []
   },
   "outputs": [],
   "source": [
    "def ResNet50(input_shape=(224, 224, 3)):\n",
    "\n",
    "    X_input = Input(input_shape)\n",
    "\n",
    "    X = ZeroPadding2D((3, 3))(X_input)\n",
    "\n",
    "    X = Conv2D(64, (7, 7), strides=(2, 2), name='conv1', kernel_initializer=glorot_uniform(seed=0))(X)\n",
    "    X = BatchNormalization(axis=3, name='bn_conv1')(X)\n",
    "    X = Activation('relu')(X)\n",
    "    X = MaxPooling2D((3, 3), strides=(2, 2))(X)\n",
    "\n",
    "    X = convolutional_block(X, f=3, filters=[64, 64, 256], stage=2, block='a', s=1)\n",
    "    X = identity_block(X, 3, [64, 64, 256], stage=2, block='b')\n",
    "    X = identity_block(X, 3, [64, 64, 256], stage=2, block='c')\n",
    "\n",
    "\n",
    "    X = convolutional_block(X, f=3, filters=[128, 128, 512], stage=3, block='a', s=2)\n",
    "    X = identity_block(X, 3, [128, 128, 512], stage=3, block='b')\n",
    "    X = identity_block(X, 3, [128, 128, 512], stage=3, block='c')\n",
    "    X = identity_block(X, 3, [128, 128, 512], stage=3, block='d')\n",
    "\n",
    "    X = convolutional_block(X, f=3, filters=[256, 256, 1024], stage=4, block='a', s=2)\n",
    "    X = identity_block(X, 3, [256, 256, 1024], stage=4, block='b')\n",
    "    X = identity_block(X, 3, [256, 256, 1024], stage=4, block='c')\n",
    "    X = identity_block(X, 3, [256, 256, 1024], stage=4, block='d')\n",
    "    X = identity_block(X, 3, [256, 256, 1024], stage=4, block='e')\n",
    "    X = identity_block(X, 3, [256, 256, 1024], stage=4, block='f')\n",
    "\n",
    "    X = X = convolutional_block(X, f=3, filters=[512, 512, 2048], stage=5, block='a', s=2)\n",
    "    X = identity_block(X, 3, [512, 512, 2048], stage=5, block='b')\n",
    "    X = identity_block(X, 3, [512, 512, 2048], stage=5, block='c')\n",
    "\n",
    "    X = AveragePooling2D(pool_size=(2, 2), padding='same')(X)\n",
    "    \n",
    "    model = Model(inputs=X_input, outputs=X, name='ResNet50')\n",
    "\n",
    "    return model"
   ]
  },
  {
   "cell_type": "code",
   "execution_count": 6,
   "id": "b2d92190",
   "metadata": {
    "execution": {
     "iopub.execute_input": "2022-07-31T09:22:05.830368Z",
     "iopub.status.busy": "2022-07-31T09:22:05.829986Z",
     "iopub.status.idle": "2022-07-31T09:22:09.926169Z",
     "shell.execute_reply": "2022-07-31T09:22:09.925342Z"
    },
    "papermill": {
     "duration": 4.102765,
     "end_time": "2022-07-31T09:22:09.928214",
     "exception": false,
     "start_time": "2022-07-31T09:22:05.825449",
     "status": "completed"
    },
    "tags": []
   },
   "outputs": [
    {
     "name": "stderr",
     "output_type": "stream",
     "text": [
      "2022-07-31 09:22:05.952178: I tensorflow/stream_executor/cuda/cuda_gpu_executor.cc:937] successful NUMA node read from SysFS had negative value (-1), but there must be at least one NUMA node, so returning NUMA node zero\n",
      "2022-07-31 09:22:06.078379: I tensorflow/stream_executor/cuda/cuda_gpu_executor.cc:937] successful NUMA node read from SysFS had negative value (-1), but there must be at least one NUMA node, so returning NUMA node zero\n",
      "2022-07-31 09:22:06.079201: I tensorflow/stream_executor/cuda/cuda_gpu_executor.cc:937] successful NUMA node read from SysFS had negative value (-1), but there must be at least one NUMA node, so returning NUMA node zero\n",
      "2022-07-31 09:22:06.080363: I tensorflow/core/platform/cpu_feature_guard.cc:142] This TensorFlow binary is optimized with oneAPI Deep Neural Network Library (oneDNN) to use the following CPU instructions in performance-critical operations:  AVX2 AVX512F FMA\n",
      "To enable them in other operations, rebuild TensorFlow with the appropriate compiler flags.\n",
      "2022-07-31 09:22:06.080638: I tensorflow/stream_executor/cuda/cuda_gpu_executor.cc:937] successful NUMA node read from SysFS had negative value (-1), but there must be at least one NUMA node, so returning NUMA node zero\n",
      "2022-07-31 09:22:06.081407: I tensorflow/stream_executor/cuda/cuda_gpu_executor.cc:937] successful NUMA node read from SysFS had negative value (-1), but there must be at least one NUMA node, so returning NUMA node zero\n",
      "2022-07-31 09:22:06.082172: I tensorflow/stream_executor/cuda/cuda_gpu_executor.cc:937] successful NUMA node read from SysFS had negative value (-1), but there must be at least one NUMA node, so returning NUMA node zero\n",
      "2022-07-31 09:22:08.379281: I tensorflow/stream_executor/cuda/cuda_gpu_executor.cc:937] successful NUMA node read from SysFS had negative value (-1), but there must be at least one NUMA node, so returning NUMA node zero\n",
      "2022-07-31 09:22:08.380124: I tensorflow/stream_executor/cuda/cuda_gpu_executor.cc:937] successful NUMA node read from SysFS had negative value (-1), but there must be at least one NUMA node, so returning NUMA node zero\n",
      "2022-07-31 09:22:08.380809: I tensorflow/stream_executor/cuda/cuda_gpu_executor.cc:937] successful NUMA node read from SysFS had negative value (-1), but there must be at least one NUMA node, so returning NUMA node zero\n",
      "2022-07-31 09:22:08.381437: I tensorflow/core/common_runtime/gpu/gpu_device.cc:1510] Created device /job:localhost/replica:0/task:0/device:GPU:0 with 15403 MB memory:  -> device: 0, name: Tesla P100-PCIE-16GB, pci bus id: 0000:00:04.0, compute capability: 6.0\n"
     ]
    }
   ],
   "source": [
    "base_model = ResNet50(input_shape=(224, 224, 3))"
   ]
  },
  {
   "cell_type": "code",
   "execution_count": 7,
   "id": "41738a36",
   "metadata": {
    "execution": {
     "iopub.execute_input": "2022-07-31T09:22:09.938779Z",
     "iopub.status.busy": "2022-07-31T09:22:09.938206Z",
     "iopub.status.idle": "2022-07-31T09:22:09.966487Z",
     "shell.execute_reply": "2022-07-31T09:22:09.965773Z"
    },
    "papermill": {
     "duration": 0.035375,
     "end_time": "2022-07-31T09:22:09.968240",
     "exception": false,
     "start_time": "2022-07-31T09:22:09.932865",
     "status": "completed"
    },
    "tags": []
   },
   "outputs": [],
   "source": [
    "headModel = base_model.output\n",
    "headModel = Flatten()(headModel)\n",
    "headModel=Dense(256, activation='relu', name='fc1',kernel_initializer=glorot_uniform(seed=0))(headModel)\n",
    "headModel=Dense(128, activation='relu', name='fc2',kernel_initializer=glorot_uniform(seed=0))(headModel)\n",
    "headModel = Dense( 1,activation='sigmoid', name='fc3',kernel_initializer=glorot_uniform(seed=0))(headModel)"
   ]
  },
  {
   "cell_type": "code",
   "execution_count": 8,
   "id": "7a79c6a8",
   "metadata": {
    "execution": {
     "iopub.execute_input": "2022-07-31T09:22:09.978165Z",
     "iopub.status.busy": "2022-07-31T09:22:09.977494Z",
     "iopub.status.idle": "2022-07-31T09:22:09.992682Z",
     "shell.execute_reply": "2022-07-31T09:22:09.991988Z"
    },
    "papermill": {
     "duration": 0.022131,
     "end_time": "2022-07-31T09:22:09.994600",
     "exception": false,
     "start_time": "2022-07-31T09:22:09.972469",
     "status": "completed"
    },
    "tags": []
   },
   "outputs": [],
   "source": [
    "model = Model(inputs=base_model.input, outputs=headModel)"
   ]
  },
  {
   "cell_type": "code",
   "execution_count": 9,
   "id": "ca390b18",
   "metadata": {
    "execution": {
     "iopub.execute_input": "2022-07-31T09:22:10.004438Z",
     "iopub.status.busy": "2022-07-31T09:22:10.004165Z",
     "iopub.status.idle": "2022-07-31T09:22:10.019302Z",
     "shell.execute_reply": "2022-07-31T09:22:10.018466Z"
    },
    "papermill": {
     "duration": 0.022076,
     "end_time": "2022-07-31T09:22:10.020962",
     "exception": false,
     "start_time": "2022-07-31T09:22:09.998886",
     "status": "completed"
    },
    "tags": []
   },
   "outputs": [],
   "source": [
    "model.compile(optimizer='adam', loss='binary_crossentropy', metrics=['accuracy'])"
   ]
  },
  {
   "cell_type": "code",
   "execution_count": 10,
   "id": "d4fade98",
   "metadata": {
    "execution": {
     "iopub.execute_input": "2022-07-31T09:22:10.030382Z",
     "iopub.status.busy": "2022-07-31T09:22:10.030115Z",
     "iopub.status.idle": "2022-07-31T09:22:10.036332Z",
     "shell.execute_reply": "2022-07-31T09:22:10.035668Z"
    },
    "papermill": {
     "duration": 0.012851,
     "end_time": "2022-07-31T09:22:10.038046",
     "exception": false,
     "start_time": "2022-07-31T09:22:10.025195",
     "status": "completed"
    },
    "tags": []
   },
   "outputs": [],
   "source": [
    "checkpoint = ModelCheckpoint(filepath='checkpoint.h5',\n",
    "                             save_best_only=True,\n",
    "                             verbose=1,\n",
    "                             mode='min',\n",
    "                             moniter='val_loss'\n",
    "                            )\n",
    "reduce_lr = ReduceLROnPlateau(monitor='val_loss', \n",
    "                              factor=0.2, \n",
    "                              patience=3, \n",
    "                              verbose=1, \n",
    "                              min_delta=0.0001\n",
    "                             )\n",
    "csv_logger = CSVLogger('training.log')\n",
    "\n",
    "callbacks = [checkpoint, reduce_lr, csv_logger]"
   ]
  },
  {
   "cell_type": "code",
   "execution_count": 11,
   "id": "a37c6bf0",
   "metadata": {
    "execution": {
     "iopub.execute_input": "2022-07-31T09:22:10.047530Z",
     "iopub.status.busy": "2022-07-31T09:22:10.047279Z",
     "iopub.status.idle": "2022-07-31T13:50:34.157533Z",
     "shell.execute_reply": "2022-07-31T13:50:34.156750Z"
    },
    "papermill": {
     "duration": 16106.644285,
     "end_time": "2022-07-31T13:50:36.686626",
     "exception": false,
     "start_time": "2022-07-31T09:22:10.042341",
     "status": "completed"
    },
    "tags": []
   },
   "outputs": [
    {
     "name": "stderr",
     "output_type": "stream",
     "text": [
      "2022-07-31 09:22:10.707273: I tensorflow/compiler/mlir/mlir_graph_optimization_pass.cc:185] None of the MLIR Optimization Passes are enabled (registered 2)\n"
     ]
    },
    {
     "name": "stdout",
     "output_type": "stream",
     "text": [
      "Epoch 1/25\n"
     ]
    },
    {
     "name": "stderr",
     "output_type": "stream",
     "text": [
      "2022-07-31 09:22:17.140649: I tensorflow/stream_executor/cuda/cuda_dnn.cc:369] Loaded cuDNN version 8005\n"
     ]
    },
    {
     "name": "stdout",
     "output_type": "stream",
     "text": [
      "1562/1562 [==============================] - 1185s 751ms/step - loss: 0.5951 - accuracy: 0.7125 - val_loss: 0.5347 - val_accuracy: 0.7407\n",
      "\n",
      "Epoch 00001: val_loss improved from inf to 0.53474, saving model to checkpoint.h5\n"
     ]
    },
    {
     "name": "stderr",
     "output_type": "stream",
     "text": [
      "/opt/conda/lib/python3.7/site-packages/keras/utils/generic_utils.py:497: CustomMaskWarning: Custom mask layers require a config and must override get_config. When loading, the custom mask layer must be passed to the custom_objects argument.\n",
      "  category=CustomMaskWarning)\n"
     ]
    },
    {
     "name": "stdout",
     "output_type": "stream",
     "text": [
      "Epoch 2/25\n",
      "1562/1562 [==============================] - 613s 392ms/step - loss: 0.2521 - accuracy: 0.8947 - val_loss: 0.3035 - val_accuracy: 0.8754\n",
      "\n",
      "Epoch 00002: val_loss improved from 0.53474 to 0.30348, saving model to checkpoint.h5\n",
      "Epoch 3/25\n",
      "1562/1562 [==============================] - 607s 389ms/step - loss: 0.1389 - accuracy: 0.9457 - val_loss: 0.1640 - val_accuracy: 0.9366\n",
      "\n",
      "Epoch 00003: val_loss improved from 0.30348 to 0.16396, saving model to checkpoint.h5\n",
      "Epoch 4/25\n",
      "1562/1562 [==============================] - 608s 389ms/step - loss: 0.0979 - accuracy: 0.9623 - val_loss: 0.2786 - val_accuracy: 0.8773\n",
      "\n",
      "Epoch 00004: val_loss did not improve from 0.16396\n",
      "Epoch 5/25\n",
      "1562/1562 [==============================] - 607s 388ms/step - loss: 0.0763 - accuracy: 0.9714 - val_loss: 0.1066 - val_accuracy: 0.9605\n",
      "\n",
      "Epoch 00005: val_loss improved from 0.16396 to 0.10664, saving model to checkpoint.h5\n",
      "Epoch 6/25\n",
      "1562/1562 [==============================] - 605s 387ms/step - loss: 0.0568 - accuracy: 0.9785 - val_loss: 0.1745 - val_accuracy: 0.9339\n",
      "\n",
      "Epoch 00006: val_loss did not improve from 0.10664\n",
      "Epoch 7/25\n",
      "1562/1562 [==============================] - 603s 386ms/step - loss: 0.0449 - accuracy: 0.9837 - val_loss: 0.1560 - val_accuracy: 0.9377\n",
      "\n",
      "Epoch 00007: val_loss did not improve from 0.10664\n",
      "Epoch 8/25\n",
      "1562/1562 [==============================] - 607s 389ms/step - loss: 0.0359 - accuracy: 0.9866 - val_loss: 0.0730 - val_accuracy: 0.9733\n",
      "\n",
      "Epoch 00008: val_loss improved from 0.10664 to 0.07299, saving model to checkpoint.h5\n",
      "Epoch 9/25\n",
      "1562/1562 [==============================] - 605s 387ms/step - loss: 0.0297 - accuracy: 0.9894 - val_loss: 0.1769 - val_accuracy: 0.9422\n",
      "\n",
      "Epoch 00009: val_loss did not improve from 0.07299\n",
      "Epoch 10/25\n",
      "1562/1562 [==============================] - 609s 390ms/step - loss: 0.0272 - accuracy: 0.9900 - val_loss: 0.0961 - val_accuracy: 0.9663\n",
      "\n",
      "Epoch 00010: val_loss did not improve from 0.07299\n",
      "Epoch 11/25\n",
      "1562/1562 [==============================] - 609s 390ms/step - loss: 0.0215 - accuracy: 0.9919 - val_loss: 0.1046 - val_accuracy: 0.9653\n",
      "\n",
      "Epoch 00011: val_loss did not improve from 0.07299\n",
      "\n",
      "Epoch 00011: ReduceLROnPlateau reducing learning rate to 0.00020000000949949026.\n",
      "Epoch 12/25\n",
      "1562/1562 [==============================] - 608s 389ms/step - loss: 0.0048 - accuracy: 0.9983 - val_loss: 0.0398 - val_accuracy: 0.9886\n",
      "\n",
      "Epoch 00012: val_loss improved from 0.07299 to 0.03979, saving model to checkpoint.h5\n",
      "Epoch 13/25\n",
      "1562/1562 [==============================] - 606s 388ms/step - loss: 7.9398e-04 - accuracy: 0.9997 - val_loss: 0.0604 - val_accuracy: 0.9869\n",
      "\n",
      "Epoch 00013: val_loss did not improve from 0.03979\n",
      "Epoch 14/25\n",
      "1562/1562 [==============================] - 605s 387ms/step - loss: 0.0015 - accuracy: 0.9994 - val_loss: 0.0612 - val_accuracy: 0.9873\n",
      "\n",
      "Epoch 00014: val_loss did not improve from 0.03979\n",
      "Epoch 15/25\n",
      "1562/1562 [==============================] - 621s 397ms/step - loss: 0.0016 - accuracy: 0.9995 - val_loss: 0.0534 - val_accuracy: 0.9891\n",
      "\n",
      "Epoch 00015: val_loss did not improve from 0.03979\n",
      "\n",
      "Epoch 00015: ReduceLROnPlateau reducing learning rate to 4.0000001899898055e-05.\n",
      "Epoch 16/25\n",
      "1562/1562 [==============================] - 610s 391ms/step - loss: 3.3542e-04 - accuracy: 0.9999 - val_loss: 0.0514 - val_accuracy: 0.9899\n",
      "\n",
      "Epoch 00016: val_loss did not improve from 0.03979\n",
      "Epoch 17/25\n",
      "1562/1562 [==============================] - 606s 388ms/step - loss: 4.7230e-05 - accuracy: 1.0000 - val_loss: 0.0551 - val_accuracy: 0.9902\n",
      "\n",
      "Epoch 00017: val_loss did not improve from 0.03979\n",
      "Epoch 18/25\n",
      "1562/1562 [==============================] - 610s 391ms/step - loss: 1.4496e-05 - accuracy: 1.0000 - val_loss: 0.0589 - val_accuracy: 0.9902\n",
      "\n",
      "Epoch 00018: val_loss did not improve from 0.03979\n",
      "\n",
      "Epoch 00018: ReduceLROnPlateau reducing learning rate to 8.000000525498762e-06.\n",
      "Epoch 19/25\n",
      "1562/1562 [==============================] - 611s 391ms/step - loss: 5.8597e-06 - accuracy: 1.0000 - val_loss: 0.0593 - val_accuracy: 0.9903\n",
      "\n",
      "Epoch 00019: val_loss did not improve from 0.03979\n",
      "Epoch 20/25\n",
      "1562/1562 [==============================] - 630s 403ms/step - loss: 6.7534e-06 - accuracy: 1.0000 - val_loss: 0.0615 - val_accuracy: 0.9904\n",
      "\n",
      "Epoch 00020: val_loss did not improve from 0.03979\n",
      "Epoch 21/25\n",
      "1562/1562 [==============================] - 613s 392ms/step - loss: 4.3411e-06 - accuracy: 1.0000 - val_loss: 0.0625 - val_accuracy: 0.9903\n",
      "\n",
      "Epoch 00021: val_loss did not improve from 0.03979\n",
      "\n",
      "Epoch 00021: ReduceLROnPlateau reducing learning rate to 1.6000001778593287e-06.\n",
      "Epoch 22/25\n",
      "1562/1562 [==============================] - 615s 393ms/step - loss: 4.3687e-06 - accuracy: 1.0000 - val_loss: 0.0629 - val_accuracy: 0.9904\n",
      "\n",
      "Epoch 00022: val_loss did not improve from 0.03979\n",
      "Epoch 23/25\n",
      "1562/1562 [==============================] - 610s 391ms/step - loss: 4.5028e-06 - accuracy: 1.0000 - val_loss: 0.0631 - val_accuracy: 0.9905\n",
      "\n",
      "Epoch 00023: val_loss did not improve from 0.03979\n",
      "Epoch 24/25\n",
      "1562/1562 [==============================] - 614s 393ms/step - loss: 3.2961e-06 - accuracy: 1.0000 - val_loss: 0.0637 - val_accuracy: 0.9904\n",
      "\n",
      "Epoch 00024: val_loss did not improve from 0.03979\n",
      "\n",
      "Epoch 00024: ReduceLROnPlateau reducing learning rate to 3.200000264769187e-07.\n",
      "Epoch 25/25\n",
      "1562/1562 [==============================] - 620s 397ms/step - loss: 2.3639e-06 - accuracy: 1.0000 - val_loss: 0.0638 - val_accuracy: 0.9905\n",
      "\n",
      "Epoch 00025: val_loss did not improve from 0.03979\n"
     ]
    },
    {
     "data": {
      "text/plain": [
       "<keras.callbacks.History at 0x7f8db8fc5090>"
      ]
     },
     "execution_count": 11,
     "metadata": {},
     "output_type": "execute_result"
    }
   ],
   "source": [
    "train_steps = 100000//64\n",
    "valid_steps = 20000//64\n",
    "\n",
    "\n",
    "model.fit(\n",
    "    train_flow,\n",
    "    epochs = 25,\n",
    "    steps_per_epoch=train_steps,\n",
    "    validation_data=valid_flow,\n",
    "    validation_steps=valid_steps,\n",
    "    callbacks = [callbacks]\n",
    ")"
   ]
  },
  {
   "cell_type": "code",
   "execution_count": 12,
   "id": "15b7edf9",
   "metadata": {
    "execution": {
     "iopub.execute_input": "2022-07-31T13:50:41.746549Z",
     "iopub.status.busy": "2022-07-31T13:50:41.746195Z",
     "iopub.status.idle": "2022-07-31T13:51:07.010875Z",
     "shell.execute_reply": "2022-07-31T13:51:07.010047Z"
    },
    "papermill": {
     "duration": 27.713502,
     "end_time": "2022-07-31T13:51:07.014290",
     "exception": false,
     "start_time": "2022-07-31T13:50:39.300788",
     "status": "completed"
    },
    "tags": []
   },
   "outputs": [
    {
     "name": "stderr",
     "output_type": "stream",
     "text": [
      "2022-07-31 13:50:50.528604: W tensorflow/python/util/util.cc:348] Sets are not currently considered sequences, but this may change in the future, so consider avoiding using them.\n",
      "/opt/conda/lib/python3.7/site-packages/keras/utils/generic_utils.py:497: CustomMaskWarning: Custom mask layers require a config and must override get_config. When loading, the custom mask layer must be passed to the custom_objects argument.\n",
      "  category=CustomMaskWarning)\n"
     ]
    }
   ],
   "source": [
    "model.save('./deepfake_models')"
   ]
  },
  {
   "cell_type": "code",
   "execution_count": 13,
   "id": "c394f648",
   "metadata": {
    "execution": {
     "iopub.execute_input": "2022-07-31T13:51:12.213805Z",
     "iopub.status.busy": "2022-07-31T13:51:12.213419Z",
     "iopub.status.idle": "2022-07-31T13:51:12.216724Z",
     "shell.execute_reply": "2022-07-31T13:51:12.215954Z"
    },
    "papermill": {
     "duration": 2.779752,
     "end_time": "2022-07-31T13:51:12.218478",
     "exception": false,
     "start_time": "2022-07-31T13:51:09.438726",
     "status": "completed"
    },
    "tags": []
   },
   "outputs": [],
   "source": [
    "# model = load_model('../input/mobilenetv2-trainedmodel/deepfake_models')\n",
    "# model.summary()"
   ]
  },
  {
   "cell_type": "code",
   "execution_count": 14,
   "id": "e84fcf5d",
   "metadata": {
    "execution": {
     "iopub.execute_input": "2022-07-31T13:51:16.974984Z",
     "iopub.status.busy": "2022-07-31T13:51:16.974033Z",
     "iopub.status.idle": "2022-07-31T13:54:39.693762Z",
     "shell.execute_reply": "2022-07-31T13:54:39.692990Z"
    },
    "papermill": {
     "duration": 207.659165,
     "end_time": "2022-07-31T13:54:42.209214",
     "exception": false,
     "start_time": "2022-07-31T13:51:14.550049",
     "status": "completed"
    },
    "tags": []
   },
   "outputs": [
    {
     "name": "stdout",
     "output_type": "stream",
     "text": [
      "313/313 [==============================] - 195s 623ms/step - loss: 0.0729 - accuracy: 0.9902\n",
      "Final Test Acccuracy = 99.020\n"
     ]
    }
   ],
   "source": [
    "_, accu = model.evaluate(test_flow)\n",
    "print('Final Test Acccuracy = {:.3f}'.format(accu*100))"
   ]
  },
  {
   "cell_type": "code",
   "execution_count": 15,
   "id": "56074668",
   "metadata": {
    "execution": {
     "iopub.execute_input": "2022-07-31T13:54:47.163753Z",
     "iopub.status.busy": "2022-07-31T13:54:47.163191Z",
     "iopub.status.idle": "2022-07-31T13:55:55.985508Z",
     "shell.execute_reply": "2022-07-31T13:55:55.984595Z"
    },
    "papermill": {
     "duration": 71.317008,
     "end_time": "2022-07-31T13:55:55.988236",
     "exception": false,
     "start_time": "2022-07-31T13:54:44.671228",
     "status": "completed"
    },
    "tags": []
   },
   "outputs": [],
   "source": [
    "y_pred = model.predict(test_flow)\n",
    "y_test = test_flow.classes"
   ]
  },
  {
   "cell_type": "code",
   "execution_count": 16,
   "id": "f023d180",
   "metadata": {
    "execution": {
     "iopub.execute_input": "2022-07-31T13:56:01.166153Z",
     "iopub.status.busy": "2022-07-31T13:56:01.165443Z",
     "iopub.status.idle": "2022-07-31T13:56:01.211844Z",
     "shell.execute_reply": "2022-07-31T13:56:01.210582Z"
    },
    "papermill": {
     "duration": 2.507089,
     "end_time": "2022-07-31T13:56:01.213703",
     "exception": false,
     "start_time": "2022-07-31T13:55:58.706614",
     "status": "completed"
    },
    "tags": []
   },
   "outputs": [
    {
     "name": "stdout",
     "output_type": "stream",
     "text": [
      "ROC AUC Score: 0.49583815000000003\n",
      "AP Score: 0.4970657186533922\n",
      "\n",
      "              precision    recall  f1-score   support\n",
      "\n",
      "           0       0.50      0.50      0.50     10000\n",
      "           1       0.50      0.50      0.50     10000\n",
      "\n",
      "    accuracy                           0.50     20000\n",
      "   macro avg       0.50      0.50      0.50     20000\n",
      "weighted avg       0.50      0.50      0.50     20000\n",
      "\n"
     ]
    }
   ],
   "source": [
    "print(\"ROC AUC Score:\", metrics.roc_auc_score(y_test, y_pred))\n",
    "print(\"AP Score:\", metrics.average_precision_score(y_test, y_pred))\n",
    "print()\n",
    "print(metrics.classification_report(y_test, y_pred > 0.5))"
   ]
  },
  {
   "cell_type": "code",
   "execution_count": null,
   "id": "a840305b",
   "metadata": {
    "papermill": {
     "duration": 2.476686,
     "end_time": "2022-07-31T13:56:06.171734",
     "exception": false,
     "start_time": "2022-07-31T13:56:03.695048",
     "status": "completed"
    },
    "tags": []
   },
   "outputs": [],
   "source": []
  }
 ],
 "metadata": {
  "kernelspec": {
   "display_name": "Python 3",
   "language": "python",
   "name": "python3"
  },
  "language_info": {
   "codemirror_mode": {
    "name": "ipython",
    "version": 3
   },
   "file_extension": ".py",
   "mimetype": "text/x-python",
   "name": "python",
   "nbconvert_exporter": "python",
   "pygments_lexer": "ipython3",
   "version": "3.7.12"
  },
  "papermill": {
   "default_parameters": {},
   "duration": 16601.683379,
   "end_time": "2022-07-31T13:56:11.966559",
   "environment_variables": {},
   "exception": null,
   "input_path": "__notebook__.ipynb",
   "output_path": "__notebook__.ipynb",
   "parameters": {},
   "start_time": "2022-07-31T09:19:30.283180",
   "version": "2.3.4"
  }
 },
 "nbformat": 4,
 "nbformat_minor": 5
}
