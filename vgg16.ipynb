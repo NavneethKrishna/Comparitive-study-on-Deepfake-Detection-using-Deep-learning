{
 "cells": [
  {
   "cell_type": "code",
   "execution_count": 1,
   "id": "abdc3faa",
   "metadata": {
    "_cell_guid": "b1076dfc-b9ad-4769-8c92-a6c4dae69d19",
    "_uuid": "8f2839f25d086af736a60e9eeb907d3b93b6e0e5",
    "execution": {
     "iopub.execute_input": "2022-08-02T13:43:26.911306Z",
     "iopub.status.busy": "2022-08-02T13:43:26.910530Z",
     "iopub.status.idle": "2022-08-02T13:43:33.542046Z",
     "shell.execute_reply": "2022-08-02T13:43:33.541226Z"
    },
    "papermill": {
     "duration": 6.640677,
     "end_time": "2022-08-02T13:43:33.544268",
     "exception": false,
     "start_time": "2022-08-02T13:43:26.903591",
     "status": "completed"
    },
    "tags": []
   },
   "outputs": [],
   "source": [
    "import cv2\n",
    "import numpy as np\n",
    "from tensorflow.keras import layers\n",
    "from keras.layers import Dense, Conv2D, MaxPool2D , Flatten\n",
    "from tensorflow.keras.callbacks import Callback, ModelCheckpoint, EarlyStopping, ReduceLROnPlateau, CSVLogger\n",
    "from tensorflow.keras.preprocessing.image import ImageDataGenerator\n",
    "from tensorflow.keras.models import Sequential\n",
    "from tensorflow.keras.optimizers import Adam\n",
    "from tensorflow.keras.models import load_model\n",
    "import matplotlib.pyplot as plt\n",
    "import pandas as pd\n",
    "from sklearn.model_selection import train_test_split\n",
    "from sklearn import metrics\n",
    "import tensorflow as tf\n",
    "from tqdm import tqdm"
   ]
  },
  {
   "cell_type": "code",
   "execution_count": 2,
   "id": "14145a2f",
   "metadata": {
    "execution": {
     "iopub.execute_input": "2022-08-02T13:43:33.552205Z",
     "iopub.status.busy": "2022-08-02T13:43:33.551491Z",
     "iopub.status.idle": "2022-08-02T13:46:08.085337Z",
     "shell.execute_reply": "2022-08-02T13:46:08.084475Z"
    },
    "papermill": {
     "duration": 154.542565,
     "end_time": "2022-08-02T13:46:08.090273",
     "exception": false,
     "start_time": "2022-08-02T13:43:33.547708",
     "status": "completed"
    },
    "tags": []
   },
   "outputs": [
    {
     "name": "stdout",
     "output_type": "stream",
     "text": [
      "Found 100000 images belonging to 2 classes.\n",
      "Found 20000 images belonging to 2 classes.\n",
      "Found 20000 images belonging to 2 classes.\n"
     ]
    }
   ],
   "source": [
    "base_path = '../input/140k-real-and-fake-faces/real_vs_fake/real-vs-fake/'\n",
    "image_gen = ImageDataGenerator(rescale=1./255.)\n",
    "\n",
    "train_flow = image_gen.flow_from_directory(\n",
    "    base_path + 'train/',\n",
    "    target_size=(224, 224),\n",
    "    batch_size=64,\n",
    "    class_mode='binary'\n",
    ")\n",
    "\n",
    "valid_flow = image_gen.flow_from_directory(\n",
    "    base_path + 'valid/',\n",
    "    target_size=(224, 224),\n",
    "    batch_size=64,\n",
    "    class_mode='binary'\n",
    ")\n",
    "\n",
    "test_flow = image_gen.flow_from_directory(\n",
    "    base_path + 'test/',\n",
    "    target_size=(224, 224),\n",
    "    batch_size=64,\n",
    "    class_mode='binary'\n",
    ")"
   ]
  },
  {
   "cell_type": "code",
   "execution_count": 3,
   "id": "d6a961a4",
   "metadata": {
    "execution": {
     "iopub.execute_input": "2022-08-02T13:46:08.098424Z",
     "iopub.status.busy": "2022-08-02T13:46:08.097535Z",
     "iopub.status.idle": "2022-08-02T13:46:11.283123Z",
     "shell.execute_reply": "2022-08-02T13:46:11.281298Z"
    },
    "papermill": {
     "duration": 3.191591,
     "end_time": "2022-08-02T13:46:11.284942",
     "exception": false,
     "start_time": "2022-08-02T13:46:08.093351",
     "status": "completed"
    },
    "tags": []
   },
   "outputs": [
    {
     "name": "stderr",
     "output_type": "stream",
     "text": [
      "2022-08-02 13:46:08.204176: I tensorflow/stream_executor/cuda/cuda_gpu_executor.cc:937] successful NUMA node read from SysFS had negative value (-1), but there must be at least one NUMA node, so returning NUMA node zero\n",
      "2022-08-02 13:46:08.351925: I tensorflow/stream_executor/cuda/cuda_gpu_executor.cc:937] successful NUMA node read from SysFS had negative value (-1), but there must be at least one NUMA node, so returning NUMA node zero\n",
      "2022-08-02 13:46:08.352768: I tensorflow/stream_executor/cuda/cuda_gpu_executor.cc:937] successful NUMA node read from SysFS had negative value (-1), but there must be at least one NUMA node, so returning NUMA node zero\n",
      "2022-08-02 13:46:08.354253: I tensorflow/core/platform/cpu_feature_guard.cc:142] This TensorFlow binary is optimized with oneAPI Deep Neural Network Library (oneDNN) to use the following CPU instructions in performance-critical operations:  AVX2 AVX512F FMA\n",
      "To enable them in other operations, rebuild TensorFlow with the appropriate compiler flags.\n",
      "2022-08-02 13:46:08.354565: I tensorflow/stream_executor/cuda/cuda_gpu_executor.cc:937] successful NUMA node read from SysFS had negative value (-1), but there must be at least one NUMA node, so returning NUMA node zero\n",
      "2022-08-02 13:46:08.355279: I tensorflow/stream_executor/cuda/cuda_gpu_executor.cc:937] successful NUMA node read from SysFS had negative value (-1), but there must be at least one NUMA node, so returning NUMA node zero\n",
      "2022-08-02 13:46:08.355985: I tensorflow/stream_executor/cuda/cuda_gpu_executor.cc:937] successful NUMA node read from SysFS had negative value (-1), but there must be at least one NUMA node, so returning NUMA node zero\n",
      "2022-08-02 13:46:10.729665: I tensorflow/stream_executor/cuda/cuda_gpu_executor.cc:937] successful NUMA node read from SysFS had negative value (-1), but there must be at least one NUMA node, so returning NUMA node zero\n",
      "2022-08-02 13:46:10.730565: I tensorflow/stream_executor/cuda/cuda_gpu_executor.cc:937] successful NUMA node read from SysFS had negative value (-1), but there must be at least one NUMA node, so returning NUMA node zero\n",
      "2022-08-02 13:46:10.731235: I tensorflow/stream_executor/cuda/cuda_gpu_executor.cc:937] successful NUMA node read from SysFS had negative value (-1), but there must be at least one NUMA node, so returning NUMA node zero\n",
      "2022-08-02 13:46:10.731826: I tensorflow/core/common_runtime/gpu/gpu_device.cc:1510] Created device /job:localhost/replica:0/task:0/device:GPU:0 with 15403 MB memory:  -> device: 0, name: Tesla P100-PCIE-16GB, pci bus id: 0000:00:04.0, compute capability: 6.0\n"
     ]
    }
   ],
   "source": [
    "model = Sequential()\n",
    "model.add(Conv2D(input_shape=(224,224,3),filters=64,kernel_size=(3,3),padding=\"same\", activation=\"relu\"))\n",
    "model.add(Conv2D(filters=64,kernel_size=(3,3),padding=\"same\", activation=\"relu\"))\n",
    "model.add(MaxPool2D(pool_size=(2,2),strides=(2,2)))\n",
    "model.add(Conv2D(filters=128, kernel_size=(3,3), padding=\"same\", activation=\"relu\"))\n",
    "model.add(Conv2D(filters=128, kernel_size=(3,3), padding=\"same\", activation=\"relu\"))\n",
    "model.add(MaxPool2D(pool_size=(2,2),strides=(2,2)))\n",
    "model.add(Conv2D(filters=256, kernel_size=(3,3), padding=\"same\", activation=\"relu\"))\n",
    "model.add(Conv2D(filters=256, kernel_size=(3,3), padding=\"same\", activation=\"relu\"))\n",
    "model.add(Conv2D(filters=256, kernel_size=(3,3), padding=\"same\", activation=\"relu\"))\n",
    "model.add(MaxPool2D(pool_size=(2,2),strides=(2,2)))\n",
    "model.add(Conv2D(filters=512, kernel_size=(3,3), padding=\"same\", activation=\"relu\"))\n",
    "model.add(Conv2D(filters=512, kernel_size=(3,3), padding=\"same\", activation=\"relu\"))\n",
    "model.add(Conv2D(filters=512, kernel_size=(3,3), padding=\"same\", activation=\"relu\"))\n",
    "model.add(MaxPool2D(pool_size=(2,2),strides=(2,2)))\n",
    "model.add(Conv2D(filters=512, kernel_size=(3,3), padding=\"same\", activation=\"relu\"))\n",
    "model.add(Conv2D(filters=512, kernel_size=(3,3), padding=\"same\", activation=\"relu\"))\n",
    "model.add(Conv2D(filters=512, kernel_size=(3,3), padding=\"same\", activation=\"relu\"))\n",
    "model.add(MaxPool2D(pool_size=(2,2),strides=(2,2)))\n",
    "model.add(Flatten())\n",
    "model.add(Dense(units=4096,activation=\"relu\"))\n",
    "model.add(Dense(units=4096,activation=\"relu\"))\n",
    "model.add(Dense(units=1, activation=\"softmax\"))"
   ]
  },
  {
   "cell_type": "code",
   "execution_count": 4,
   "id": "1a359b07",
   "metadata": {
    "execution": {
     "iopub.execute_input": "2022-08-02T13:46:11.293029Z",
     "iopub.status.busy": "2022-08-02T13:46:11.292291Z",
     "iopub.status.idle": "2022-08-02T13:46:11.303720Z",
     "shell.execute_reply": "2022-08-02T13:46:11.302998Z"
    },
    "papermill": {
     "duration": 0.017079,
     "end_time": "2022-08-02T13:46:11.305368",
     "exception": false,
     "start_time": "2022-08-02T13:46:11.288289",
     "status": "completed"
    },
    "tags": []
   },
   "outputs": [],
   "source": [
    "from keras.losses import binary_crossentropy\n",
    "opt = Adam(learning_rate=0.001)\n",
    "model.compile(optimizer=opt, loss=binary_crossentropy, metrics=['accuracy'])"
   ]
  },
  {
   "cell_type": "code",
   "execution_count": 5,
   "id": "521d1424",
   "metadata": {
    "execution": {
     "iopub.execute_input": "2022-08-02T13:46:11.312968Z",
     "iopub.status.busy": "2022-08-02T13:46:11.312657Z",
     "iopub.status.idle": "2022-08-02T13:46:11.320473Z",
     "shell.execute_reply": "2022-08-02T13:46:11.319723Z"
    },
    "papermill": {
     "duration": 0.013381,
     "end_time": "2022-08-02T13:46:11.322069",
     "exception": false,
     "start_time": "2022-08-02T13:46:11.308688",
     "status": "completed"
    },
    "tags": []
   },
   "outputs": [
    {
     "name": "stdout",
     "output_type": "stream",
     "text": [
      "Model: \"sequential\"\n",
      "_________________________________________________________________\n",
      "Layer (type)                 Output Shape              Param #   \n",
      "=================================================================\n",
      "conv2d (Conv2D)              (None, 224, 224, 64)      1792      \n",
      "_________________________________________________________________\n",
      "conv2d_1 (Conv2D)            (None, 224, 224, 64)      36928     \n",
      "_________________________________________________________________\n",
      "max_pooling2d (MaxPooling2D) (None, 112, 112, 64)      0         \n",
      "_________________________________________________________________\n",
      "conv2d_2 (Conv2D)            (None, 112, 112, 128)     73856     \n",
      "_________________________________________________________________\n",
      "conv2d_3 (Conv2D)            (None, 112, 112, 128)     147584    \n",
      "_________________________________________________________________\n",
      "max_pooling2d_1 (MaxPooling2 (None, 56, 56, 128)       0         \n",
      "_________________________________________________________________\n",
      "conv2d_4 (Conv2D)            (None, 56, 56, 256)       295168    \n",
      "_________________________________________________________________\n",
      "conv2d_5 (Conv2D)            (None, 56, 56, 256)       590080    \n",
      "_________________________________________________________________\n",
      "conv2d_6 (Conv2D)            (None, 56, 56, 256)       590080    \n",
      "_________________________________________________________________\n",
      "max_pooling2d_2 (MaxPooling2 (None, 28, 28, 256)       0         \n",
      "_________________________________________________________________\n",
      "conv2d_7 (Conv2D)            (None, 28, 28, 512)       1180160   \n",
      "_________________________________________________________________\n",
      "conv2d_8 (Conv2D)            (None, 28, 28, 512)       2359808   \n",
      "_________________________________________________________________\n",
      "conv2d_9 (Conv2D)            (None, 28, 28, 512)       2359808   \n",
      "_________________________________________________________________\n",
      "max_pooling2d_3 (MaxPooling2 (None, 14, 14, 512)       0         \n",
      "_________________________________________________________________\n",
      "conv2d_10 (Conv2D)           (None, 14, 14, 512)       2359808   \n",
      "_________________________________________________________________\n",
      "conv2d_11 (Conv2D)           (None, 14, 14, 512)       2359808   \n",
      "_________________________________________________________________\n",
      "conv2d_12 (Conv2D)           (None, 14, 14, 512)       2359808   \n",
      "_________________________________________________________________\n",
      "max_pooling2d_4 (MaxPooling2 (None, 7, 7, 512)         0         \n",
      "_________________________________________________________________\n",
      "flatten (Flatten)            (None, 25088)             0         \n",
      "_________________________________________________________________\n",
      "dense (Dense)                (None, 4096)              102764544 \n",
      "_________________________________________________________________\n",
      "dense_1 (Dense)              (None, 4096)              16781312  \n",
      "_________________________________________________________________\n",
      "dense_2 (Dense)              (None, 1)                 4097      \n",
      "=================================================================\n",
      "Total params: 134,264,641\n",
      "Trainable params: 134,264,641\n",
      "Non-trainable params: 0\n",
      "_________________________________________________________________\n"
     ]
    }
   ],
   "source": [
    "model.summary()"
   ]
  },
  {
   "cell_type": "code",
   "execution_count": 6,
   "id": "f9973949",
   "metadata": {
    "execution": {
     "iopub.execute_input": "2022-08-02T13:46:11.329695Z",
     "iopub.status.busy": "2022-08-02T13:46:11.329223Z",
     "iopub.status.idle": "2022-08-02T13:46:11.334412Z",
     "shell.execute_reply": "2022-08-02T13:46:11.333538Z"
    },
    "papermill": {
     "duration": 0.011111,
     "end_time": "2022-08-02T13:46:11.336362",
     "exception": false,
     "start_time": "2022-08-02T13:46:11.325251",
     "status": "completed"
    },
    "tags": []
   },
   "outputs": [],
   "source": [
    "checkpoint = ModelCheckpoint(filepath='checkpoint.h5',\n",
    "                             save_best_only=True,\n",
    "                             verbose=1,\n",
    "                             mode='min',\n",
    "                             moniter='val_loss'\n",
    "                            )\n",
    "reduce_lr = ReduceLROnPlateau(monitor='val_loss', \n",
    "                              factor=0.2, \n",
    "                              patience=3, \n",
    "                              verbose=1, \n",
    "                              min_delta=0.0001\n",
    "                             )\n",
    "csv_logger = CSVLogger('training.log')\n",
    "\n",
    "callback = [checkpoint, reduce_lr, csv_logger]"
   ]
  },
  {
   "cell_type": "code",
   "execution_count": 7,
   "id": "23d9fdd3",
   "metadata": {
    "execution": {
     "iopub.execute_input": "2022-08-02T13:46:11.343822Z",
     "iopub.status.busy": "2022-08-02T13:46:11.343533Z",
     "iopub.status.idle": "2022-08-02T17:59:20.629182Z",
     "shell.execute_reply": "2022-08-02T17:59:20.627470Z"
    },
    "papermill": {
     "duration": 15189.292557,
     "end_time": "2022-08-02T17:59:20.632138",
     "exception": false,
     "start_time": "2022-08-02T13:46:11.339581",
     "status": "completed"
    },
    "tags": []
   },
   "outputs": [
    {
     "name": "stderr",
     "output_type": "stream",
     "text": [
      "2022-08-02 13:46:12.067943: I tensorflow/compiler/mlir/mlir_graph_optimization_pass.cc:185] None of the MLIR Optimization Passes are enabled (registered 2)\n"
     ]
    },
    {
     "name": "stdout",
     "output_type": "stream",
     "text": [
      "Epoch 1/20\n"
     ]
    },
    {
     "name": "stderr",
     "output_type": "stream",
     "text": [
      "2022-08-02 13:46:14.732099: I tensorflow/stream_executor/cuda/cuda_dnn.cc:369] Loaded cuDNN version 8005\n"
     ]
    },
    {
     "name": "stdout",
     "output_type": "stream",
     "text": [
      "1562/1562 [==============================] - 1242s 786ms/step - loss: 0.6932 - accuracy: 0.5001 - val_loss: 0.6932 - val_accuracy: 0.5000\n",
      "\n",
      "Epoch 00001: val_loss improved from inf to 0.69316, saving model to checkpoint.h5\n",
      "Epoch 2/20\n",
      "1562/1562 [==============================] - 715s 457ms/step - loss: 0.6932 - accuracy: 0.5000 - val_loss: 0.6931 - val_accuracy: 0.4997\n",
      "\n",
      "Epoch 00002: val_loss improved from 0.69316 to 0.69315, saving model to checkpoint.h5\n",
      "Epoch 3/20\n",
      "1562/1562 [==============================] - 713s 456ms/step - loss: 0.6932 - accuracy: 0.5000 - val_loss: 0.6932 - val_accuracy: 0.4999\n",
      "\n",
      "Epoch 00003: val_loss did not improve from 0.69315\n",
      "Epoch 4/20\n",
      "1562/1562 [==============================] - 710s 454ms/step - loss: 0.6932 - accuracy: 0.5000 - val_loss: 0.6932 - val_accuracy: 0.5003\n",
      "\n",
      "Epoch 00004: val_loss did not improve from 0.69315\n",
      "\n",
      "Epoch 00004: ReduceLROnPlateau reducing learning rate to 0.00020000000949949026.\n",
      "Epoch 5/20\n",
      "1562/1562 [==============================] - 710s 455ms/step - loss: 0.6932 - accuracy: 0.5000 - val_loss: 0.6932 - val_accuracy: 0.5003\n",
      "\n",
      "Epoch 00005: val_loss did not improve from 0.69315\n",
      "Epoch 6/20\n",
      "1562/1562 [==============================] - 722s 462ms/step - loss: 0.6932 - accuracy: 0.5000 - val_loss: 0.6931 - val_accuracy: 0.5001\n",
      "\n",
      "Epoch 00006: val_loss improved from 0.69315 to 0.69315, saving model to checkpoint.h5\n",
      "Epoch 7/20\n",
      "1562/1562 [==============================] - 728s 466ms/step - loss: 0.6932 - accuracy: 0.5000 - val_loss: 0.6931 - val_accuracy: 0.5001\n",
      "\n",
      "Epoch 00007: val_loss did not improve from 0.69315\n",
      "\n",
      "Epoch 00007: ReduceLROnPlateau reducing learning rate to 4.0000001899898055e-05.\n",
      "Epoch 8/20\n",
      "1562/1562 [==============================] - 726s 465ms/step - loss: 0.6931 - accuracy: 0.5000 - val_loss: 0.6931 - val_accuracy: 0.5001\n",
      "\n",
      "Epoch 00008: val_loss did not improve from 0.69315\n",
      "Epoch 9/20\n",
      "1562/1562 [==============================] - 707s 452ms/step - loss: 0.6931 - accuracy: 0.5000 - val_loss: 0.6931 - val_accuracy: 0.4999\n",
      "\n",
      "Epoch 00009: val_loss did not improve from 0.69315\n",
      "Epoch 10/20\n",
      "1562/1562 [==============================] - 711s 455ms/step - loss: 0.6932 - accuracy: 0.5000 - val_loss: 0.6931 - val_accuracy: 0.5001\n",
      "\n",
      "Epoch 00010: val_loss did not improve from 0.69315\n",
      "\n",
      "Epoch 00010: ReduceLROnPlateau reducing learning rate to 8.000000525498762e-06.\n",
      "Epoch 11/20\n",
      "1562/1562 [==============================] - 709s 454ms/step - loss: 0.6931 - accuracy: 0.5000 - val_loss: 0.6931 - val_accuracy: 0.4999\n",
      "\n",
      "Epoch 00011: val_loss did not improve from 0.69315\n",
      "Epoch 12/20\n",
      "1562/1562 [==============================] - 713s 457ms/step - loss: 0.6931 - accuracy: 0.5000 - val_loss: 0.6931 - val_accuracy: 0.5001\n",
      "\n",
      "Epoch 00012: val_loss did not improve from 0.69315\n",
      "Epoch 13/20\n",
      "1562/1562 [==============================] - 714s 457ms/step - loss: 0.6931 - accuracy: 0.4999 - val_loss: 0.6931 - val_accuracy: 0.4999\n",
      "\n",
      "Epoch 00013: val_loss did not improve from 0.69315\n",
      "\n",
      "Epoch 00013: ReduceLROnPlateau reducing learning rate to 1.6000001778593287e-06.\n",
      "Epoch 14/20\n",
      "1562/1562 [==============================] - 717s 459ms/step - loss: 0.6931 - accuracy: 0.5000 - val_loss: 0.6931 - val_accuracy: 0.4999\n",
      "\n",
      "Epoch 00014: val_loss did not improve from 0.69315\n",
      "Epoch 15/20\n",
      "1562/1562 [==============================] - 716s 458ms/step - loss: 0.6932 - accuracy: 0.5000 - val_loss: 0.6931 - val_accuracy: 0.5002\n",
      "\n",
      "Epoch 00015: val_loss improved from 0.69315 to 0.69315, saving model to checkpoint.h5\n",
      "Epoch 16/20\n",
      "1562/1562 [==============================] - 713s 456ms/step - loss: 0.6931 - accuracy: 0.4999 - val_loss: 0.6931 - val_accuracy: 0.5004\n",
      "\n",
      "Epoch 00016: val_loss did not improve from 0.69315\n",
      "\n",
      "Epoch 00016: ReduceLROnPlateau reducing learning rate to 3.200000264769187e-07.\n",
      "Epoch 17/20\n",
      "1562/1562 [==============================] - 711s 455ms/step - loss: 0.6932 - accuracy: 0.5000 - val_loss: 0.6931 - val_accuracy: 0.5001\n",
      "\n",
      "Epoch 00017: val_loss improved from 0.69315 to 0.69315, saving model to checkpoint.h5\n",
      "Epoch 18/20\n",
      "1562/1562 [==============================] - 722s 462ms/step - loss: 0.6932 - accuracy: 0.5000 - val_loss: 0.6931 - val_accuracy: 0.5003\n",
      "\n",
      "Epoch 00018: val_loss did not improve from 0.69315\n",
      "Epoch 19/20\n",
      "1562/1562 [==============================] - 711s 455ms/step - loss: 0.6932 - accuracy: 0.5000 - val_loss: 0.6931 - val_accuracy: 0.5001\n",
      "\n",
      "Epoch 00019: val_loss did not improve from 0.69315\n",
      "\n",
      "Epoch 00019: ReduceLROnPlateau reducing learning rate to 6.400000529538374e-08.\n",
      "Epoch 20/20\n",
      "1562/1562 [==============================] - 716s 458ms/step - loss: 0.6931 - accuracy: 0.5000 - val_loss: 0.6931 - val_accuracy: 0.5003\n",
      "\n",
      "Epoch 00020: val_loss did not improve from 0.69315\n"
     ]
    },
    {
     "data": {
      "text/plain": [
       "<keras.callbacks.History at 0x7faa2ea22350>"
      ]
     },
     "execution_count": 7,
     "metadata": {},
     "output_type": "execute_result"
    }
   ],
   "source": [
    "train_steps = 100000//64\n",
    "valid_steps = 20000//64\n",
    "\n",
    "model.fit(\n",
    "    train_flow,\n",
    "    epochs=20,\n",
    "    steps_per_epoch=train_steps,\n",
    "    validation_data=valid_flow,\n",
    "    validation_steps=valid_steps,\n",
    "    callbacks=[callback]\n",
    ")"
   ]
  },
  {
   "cell_type": "code",
   "execution_count": 8,
   "id": "c70fcf1c",
   "metadata": {
    "execution": {
     "iopub.execute_input": "2022-08-02T17:59:24.068579Z",
     "iopub.status.busy": "2022-08-02T17:59:24.067015Z",
     "iopub.status.idle": "2022-08-02T17:59:31.453505Z",
     "shell.execute_reply": "2022-08-02T17:59:31.451653Z"
    },
    "papermill": {
     "duration": 9.129791,
     "end_time": "2022-08-02T17:59:31.458975",
     "exception": false,
     "start_time": "2022-08-02T17:59:22.329184",
     "status": "completed"
    },
    "tags": []
   },
   "outputs": [
    {
     "name": "stderr",
     "output_type": "stream",
     "text": [
      "2022-08-02 17:59:24.797737: W tensorflow/python/util/util.cc:348] Sets are not currently considered sequences, but this may change in the future, so consider avoiding using them.\n"
     ]
    }
   ],
   "source": [
    "model.save('./deepfake_models')"
   ]
  },
  {
   "cell_type": "code",
   "execution_count": 9,
   "id": "14f5b3b7",
   "metadata": {
    "execution": {
     "iopub.execute_input": "2022-08-02T17:59:35.938026Z",
     "iopub.status.busy": "2022-08-02T17:59:35.937636Z",
     "iopub.status.idle": "2022-08-02T17:59:35.941528Z",
     "shell.execute_reply": "2022-08-02T17:59:35.940646Z"
    },
    "papermill": {
     "duration": 2.605795,
     "end_time": "2022-08-02T17:59:35.943831",
     "exception": false,
     "start_time": "2022-08-02T17:59:33.338036",
     "status": "completed"
    },
    "tags": []
   },
   "outputs": [],
   "source": [
    "# model = load_model('../input/vgg16trainedmodel/deepfake_models')\n",
    "# model.summary()"
   ]
  },
  {
   "cell_type": "code",
   "execution_count": 10,
   "id": "fd1a927f",
   "metadata": {
    "execution": {
     "iopub.execute_input": "2022-08-02T17:59:39.560867Z",
     "iopub.status.busy": "2022-08-02T17:59:39.560423Z",
     "iopub.status.idle": "2022-08-02T18:04:02.197623Z",
     "shell.execute_reply": "2022-08-02T18:04:02.196764Z"
    },
    "papermill": {
     "duration": 266.080384,
     "end_time": "2022-08-02T18:04:03.960622",
     "exception": false,
     "start_time": "2022-08-02T17:59:37.880238",
     "status": "completed"
    },
    "tags": []
   },
   "outputs": [
    {
     "name": "stdout",
     "output_type": "stream",
     "text": [
      "313/313 [==============================] - 230s 735ms/step - loss: 0.6931 - accuracy: 0.5000\n",
      "Final Test Acccuracy = 50.000\n"
     ]
    }
   ],
   "source": [
    "_, accu = model.evaluate(test_flow)\n",
    "print('Final Test Acccuracy = {:.3f}'.format(accu*100))"
   ]
  },
  {
   "cell_type": "code",
   "execution_count": 11,
   "id": "ea99b55c",
   "metadata": {
    "execution": {
     "iopub.execute_input": "2022-08-02T18:04:07.353932Z",
     "iopub.status.busy": "2022-08-02T18:04:07.353565Z",
     "iopub.status.idle": "2022-08-02T18:05:17.040370Z",
     "shell.execute_reply": "2022-08-02T18:05:17.039507Z"
    },
    "papermill": {
     "duration": 71.438142,
     "end_time": "2022-08-02T18:05:17.042483",
     "exception": false,
     "start_time": "2022-08-02T18:04:05.604341",
     "status": "completed"
    },
    "tags": []
   },
   "outputs": [],
   "source": [
    "y_pred = model.predict(test_flow)\n",
    "y_test = test_flow.classes"
   ]
  },
  {
   "cell_type": "code",
   "execution_count": 12,
   "id": "0eafcba1",
   "metadata": {
    "execution": {
     "iopub.execute_input": "2022-08-02T18:05:20.806333Z",
     "iopub.status.busy": "2022-08-02T18:05:20.805944Z",
     "iopub.status.idle": "2022-08-02T18:05:20.853233Z",
     "shell.execute_reply": "2022-08-02T18:05:20.851789Z"
    },
    "papermill": {
     "duration": 1.816074,
     "end_time": "2022-08-02T18:05:20.855789",
     "exception": false,
     "start_time": "2022-08-02T18:05:19.039715",
     "status": "completed"
    },
    "tags": []
   },
   "outputs": [
    {
     "name": "stdout",
     "output_type": "stream",
     "text": [
      "ROC AUC Score: 0.5\n",
      "AP Score: 0.5\n",
      "\n",
      "              precision    recall  f1-score   support\n",
      "\n",
      "           0       0.00      0.00      0.00     10000\n",
      "           1       0.50      1.00      0.67     10000\n",
      "\n",
      "    accuracy                           0.50     20000\n",
      "   macro avg       0.25      0.50      0.33     20000\n",
      "weighted avg       0.25      0.50      0.33     20000\n",
      "\n"
     ]
    },
    {
     "name": "stderr",
     "output_type": "stream",
     "text": [
      "/opt/conda/lib/python3.7/site-packages/sklearn/metrics/_classification.py:1318: UndefinedMetricWarning: Precision and F-score are ill-defined and being set to 0.0 in labels with no predicted samples. Use `zero_division` parameter to control this behavior.\n",
      "  _warn_prf(average, modifier, msg_start, len(result))\n",
      "/opt/conda/lib/python3.7/site-packages/sklearn/metrics/_classification.py:1318: UndefinedMetricWarning: Precision and F-score are ill-defined and being set to 0.0 in labels with no predicted samples. Use `zero_division` parameter to control this behavior.\n",
      "  _warn_prf(average, modifier, msg_start, len(result))\n",
      "/opt/conda/lib/python3.7/site-packages/sklearn/metrics/_classification.py:1318: UndefinedMetricWarning: Precision and F-score are ill-defined and being set to 0.0 in labels with no predicted samples. Use `zero_division` parameter to control this behavior.\n",
      "  _warn_prf(average, modifier, msg_start, len(result))\n"
     ]
    }
   ],
   "source": [
    "print(\"ROC AUC Score:\", metrics.roc_auc_score(y_test, y_pred))\n",
    "print(\"AP Score:\", metrics.average_precision_score(y_test, y_pred))\n",
    "print()\n",
    "print(metrics.classification_report(y_test, y_pred > 0.5))"
   ]
  },
  {
   "cell_type": "code",
   "execution_count": null,
   "id": "386116c0",
   "metadata": {
    "papermill": {
     "duration": 1.728052,
     "end_time": "2022-08-02T18:05:24.253430",
     "exception": false,
     "start_time": "2022-08-02T18:05:22.525378",
     "status": "completed"
    },
    "tags": []
   },
   "outputs": [],
   "source": []
  }
 ],
 "metadata": {
  "kernelspec": {
   "display_name": "Python 3",
   "language": "python",
   "name": "python3"
  },
  "language_info": {
   "codemirror_mode": {
    "name": "ipython",
    "version": 3
   },
   "file_extension": ".py",
   "mimetype": "text/x-python",
   "name": "python",
   "nbconvert_exporter": "python",
   "pygments_lexer": "ipython3",
   "version": "3.7.12"
  },
  "papermill": {
   "default_parameters": {},
   "duration": 15730.181297,
   "end_time": "2022-08-02T18:05:29.408970",
   "environment_variables": {},
   "exception": null,
   "input_path": "__notebook__.ipynb",
   "output_path": "__notebook__.ipynb",
   "parameters": {},
   "start_time": "2022-08-02T13:43:19.227673",
   "version": "2.3.4"
  }
 },
 "nbformat": 4,
 "nbformat_minor": 5
}
