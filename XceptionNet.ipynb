{
 "cells": [
  {
   "cell_type": "code",
   "execution_count": 1,
   "id": "2c5d05a0",
   "metadata": {
    "_cell_guid": "d1a34961-97bb-4408-9eba-1eb8424b9be8",
    "_uuid": "8cdb0b3b-c7d2-4d0d-b72f-e12af7594509",
    "collapsed": false,
    "execution": {
     "iopub.execute_input": "2022-07-30T08:36:14.973665Z",
     "iopub.status.busy": "2022-07-30T08:36:14.973170Z",
     "iopub.status.idle": "2022-07-30T08:36:21.460514Z",
     "shell.execute_reply": "2022-07-30T08:36:21.459603Z"
    },
    "jupyter": {
     "outputs_hidden": false
    },
    "papermill": {
     "duration": 6.498643,
     "end_time": "2022-07-30T08:36:21.464075",
     "exception": false,
     "start_time": "2022-07-30T08:36:14.965432",
     "status": "completed"
    },
    "tags": []
   },
   "outputs": [],
   "source": [
    "import numpy as np\n",
    "from tensorflow.keras import layers\n",
    "from tensorflow.keras.layers import Dense, Dropout, Activation, Flatten, Conv2D, MaxPooling2D, SeparableConv2D, UpSampling2D, BatchNormalization, Input, GlobalAveragePooling2D\n",
    "from tensorflow.keras.callbacks import Callback, ReduceLROnPlateau , ModelCheckpoint, CSVLogger\n",
    "from tensorflow.keras.preprocessing.image import ImageDataGenerator\n",
    "from tensorflow.keras.models import Sequential\n",
    "from tensorflow.keras.optimizers import Adam\n",
    "from tensorflow.keras.models import load_model\n",
    "import matplotlib.pyplot as plt\n",
    "import pandas as pd\n",
    "from sklearn import metrics\n",
    "import tensorflow as tf"
   ]
  },
  {
   "cell_type": "code",
   "execution_count": 2,
   "id": "a31ef7ad",
   "metadata": {
    "_cell_guid": "540e273d-983d-4dc6-a5b0-085aa0119b27",
    "_uuid": "9a2a4016-dad4-4103-9b66-5b0dc139c0e1",
    "collapsed": false,
    "execution": {
     "iopub.execute_input": "2022-07-30T08:36:21.474007Z",
     "iopub.status.busy": "2022-07-30T08:36:21.473471Z",
     "iopub.status.idle": "2022-07-30T08:38:54.069199Z",
     "shell.execute_reply": "2022-07-30T08:38:54.068345Z"
    },
    "jupyter": {
     "outputs_hidden": false
    },
    "papermill": {
     "duration": 152.606641,
     "end_time": "2022-07-30T08:38:54.075352",
     "exception": false,
     "start_time": "2022-07-30T08:36:21.468711",
     "status": "completed"
    },
    "tags": []
   },
   "outputs": [
    {
     "name": "stdout",
     "output_type": "stream",
     "text": [
      "Found 100000 images belonging to 2 classes.\n",
      "Found 20000 images belonging to 2 classes.\n",
      "Found 20000 images belonging to 2 classes.\n"
     ]
    }
   ],
   "source": [
    "base_path = '../input/140k-real-and-fake-faces/real_vs_fake/real-vs-fake/'\n",
    "image_gen = ImageDataGenerator(rescale=1./255.)\n",
    "\n",
    "train_flow = image_gen.flow_from_directory(\n",
    "    base_path + 'train/',\n",
    "    target_size=(224, 224),\n",
    "    batch_size=64,\n",
    "    class_mode='binary'\n",
    ")\n",
    "\n",
    "valid_flow = image_gen.flow_from_directory(\n",
    "    base_path + 'valid/',\n",
    "    target_size=(224, 224),\n",
    "    batch_size=64,\n",
    "    class_mode='binary'\n",
    ")\n",
    "\n",
    "test_flow = image_gen.flow_from_directory(\n",
    "    base_path + 'test/',\n",
    "    target_size=(224, 224),\n",
    "    batch_size=64,\n",
    "    class_mode='binary'\n",
    ")"
   ]
  },
  {
   "cell_type": "code",
   "execution_count": 3,
   "id": "c48c258a",
   "metadata": {
    "_cell_guid": "b2e8e0c8-8b9d-4f9d-8aac-36592071535c",
    "_uuid": "53289d21-f728-4052-83f5-634e1dea3317",
    "collapsed": false,
    "execution": {
     "iopub.execute_input": "2022-07-30T08:38:54.085122Z",
     "iopub.status.busy": "2022-07-30T08:38:54.084731Z",
     "iopub.status.idle": "2022-07-30T08:38:54.099833Z",
     "shell.execute_reply": "2022-07-30T08:38:54.098985Z"
    },
    "jupyter": {
     "outputs_hidden": false
    },
    "papermill": {
     "duration": 0.022199,
     "end_time": "2022-07-30T08:38:54.101730",
     "exception": false,
     "start_time": "2022-07-30T08:38:54.079531",
     "status": "completed"
    },
    "tags": []
   },
   "outputs": [],
   "source": [
    "def entry_flow(inputs) :\n",
    "\n",
    "    x = Conv2D(32, 3, strides = 2, padding='same')(inputs)\n",
    "    x = BatchNormalization()(x)\n",
    "    x = Activation('relu')(x)\n",
    "\n",
    "    x = Conv2D(64,3,padding='same')(x)\n",
    "    x = BatchNormalization()(x)\n",
    "    x = Activation('relu')(x)\n",
    "\n",
    "    previous_block_activation = x\n",
    "\n",
    "    for size in [128, 256, 728] :\n",
    "\n",
    "        x = Activation('relu')(x)\n",
    "        x = SeparableConv2D(size, 3, padding='same')(x)\n",
    "        x = BatchNormalization()(x)\n",
    "\n",
    "        x = Activation('relu')(x)\n",
    "        x = SeparableConv2D(size, 3, padding='same')(x)\n",
    "        x = BatchNormalization()(x)\n",
    "\n",
    "        x = MaxPooling2D(3, strides=2, padding='same')(x)\n",
    "\n",
    "        residual = Conv2D(size, 1, strides=2, padding='same')(previous_block_activation)\n",
    "\n",
    "        x = tensorflow.keras.layers.Add()([x, residual])\n",
    "        previous_block_activation = x\n",
    "\n",
    "    return x"
   ]
  },
  {
   "cell_type": "code",
   "execution_count": 4,
   "id": "604117bc",
   "metadata": {
    "_cell_guid": "d1e54764-457e-4abf-aec7-c9440da24cf3",
    "_uuid": "8e416687-5f23-4ccb-bb04-1c232f5ae676",
    "collapsed": false,
    "execution": {
     "iopub.execute_input": "2022-07-30T08:38:54.112255Z",
     "iopub.status.busy": "2022-07-30T08:38:54.111990Z",
     "iopub.status.idle": "2022-07-30T08:38:54.118578Z",
     "shell.execute_reply": "2022-07-30T08:38:54.117796Z"
    },
    "jupyter": {
     "outputs_hidden": false
    },
    "papermill": {
     "duration": 0.013313,
     "end_time": "2022-07-30T08:38:54.120180",
     "exception": false,
     "start_time": "2022-07-30T08:38:54.106867",
     "status": "completed"
    },
    "tags": []
   },
   "outputs": [],
   "source": [
    "def middle_flow(x, num_blocks=8) :\n",
    "\n",
    "    previous_block_activation = x\n",
    "\n",
    "    for _ in range(num_blocks) :\n",
    "\n",
    "        x = Activation('relu')(x)\n",
    "        x = SeparableConv2D(728, 3, padding='same')(x)\n",
    "        x = BatchNormalization()(x)\n",
    "\n",
    "        x = Activation('relu')(x)\n",
    "        x = SeparableConv2D(728, 3, padding='same')(x)\n",
    "        x = BatchNormalization()(x)\n",
    "\n",
    "        x = Activation('relu')(x)\n",
    "        x = SeparableConv2D(728, 3, padding='same')(x)\n",
    "        x = BatchNormalization()(x)\n",
    "\n",
    "        x = tensorflow.keras.layers.Add()([x, previous_block_activation])\n",
    "        previous_block_activation = x\n",
    "\n",
    "    return x"
   ]
  },
  {
   "cell_type": "code",
   "execution_count": 5,
   "id": "aaf968f4",
   "metadata": {
    "_cell_guid": "2fc52318-696f-430b-8541-3effd5aa4545",
    "_uuid": "90d856b9-f8c7-483f-aadf-467e78206f07",
    "collapsed": false,
    "execution": {
     "iopub.execute_input": "2022-07-30T08:38:54.130078Z",
     "iopub.status.busy": "2022-07-30T08:38:54.129798Z",
     "iopub.status.idle": "2022-07-30T08:38:54.137787Z",
     "shell.execute_reply": "2022-07-30T08:38:54.137092Z"
    },
    "jupyter": {
     "outputs_hidden": false
    },
    "papermill": {
     "duration": 0.014703,
     "end_time": "2022-07-30T08:38:54.139435",
     "exception": false,
     "start_time": "2022-07-30T08:38:54.124732",
     "status": "completed"
    },
    "tags": []
   },
   "outputs": [],
   "source": [
    "def exit_flow(x) :\n",
    "\n",
    "    previous_block_activation = x\n",
    "\n",
    "    x = Activation('relu')(x)\n",
    "    x = SeparableConv2D(728, 3, padding='same')(x)\n",
    "    x = BatchNormalization()(x)\n",
    "\n",
    "    x = Activation('relu')(x)\n",
    "    x = SeparableConv2D(1024, 3, padding='same')(x) \n",
    "    x = BatchNormalization()(x)\n",
    "\n",
    "    x = MaxPooling2D(3, strides=2, padding='same')(x)\n",
    "\n",
    "    residual = Conv2D(1024, 1, strides=2, padding='same')(previous_block_activation)\n",
    "    x = tensorflow.keras.layers.Add()([x, residual])\n",
    "\n",
    "    x = Activation('relu')(x)\n",
    "    x = SeparableConv2D(728, 3, padding='same')(x)\n",
    "    x = BatchNormalization()(x)\n",
    "\n",
    "    x = Activation('relu')(x)\n",
    "    x = SeparableConv2D(1024, 3, padding='same')(x)\n",
    "    x = BatchNormalization()(x)\n",
    "\n",
    "    x = GlobalAveragePooling2D()(x)\n",
    "    x = Dense(1, activation='linear')(x)\n",
    "\n",
    "    return x"
   ]
  },
  {
   "cell_type": "code",
   "execution_count": 6,
   "id": "d81799f7",
   "metadata": {
    "_cell_guid": "5f06a729-8294-419f-83b6-577c727297e7",
    "_uuid": "c60b9327-e375-4dc5-8b42-12a89f892e4b",
    "collapsed": false,
    "execution": {
     "iopub.execute_input": "2022-07-30T08:38:54.149086Z",
     "iopub.status.busy": "2022-07-30T08:38:54.148494Z",
     "iopub.status.idle": "2022-07-30T08:38:54.156274Z",
     "shell.execute_reply": "2022-07-30T08:38:54.155617Z"
    },
    "jupyter": {
     "outputs_hidden": false
    },
    "papermill": {
     "duration": 0.014508,
     "end_time": "2022-07-30T08:38:54.158100",
     "exception": false,
     "start_time": "2022-07-30T08:38:54.143592",
     "status": "completed"
    },
    "tags": []
   },
   "outputs": [],
   "source": [
    "import tensorflow as tf\n",
    "import tensorflow.keras\n",
    "\n",
    "from tensorflow.keras import models, layers\n",
    "from tensorflow.keras.models import Model, model_from_json, Sequential\n",
    "\n",
    "from tensorflow.keras.preprocessing.image import ImageDataGenerator, array_to_img, img_to_array, load_img\n",
    "from tensorflow.keras.callbacks import TensorBoard\n",
    "from tensorflow.keras.layers import Dense, Dropout, Activation, Flatten, Conv2D, MaxPooling2D, SeparableConv2D, UpSampling2D, BatchNormalization, Input, GlobalAveragePooling2D\n",
    "\n",
    "from tensorflow.keras.regularizers import l2\n",
    "from tensorflow.keras.optimizers import SGD, RMSprop\n",
    "from tensorflow.keras.utils import to_categorical\n",
    "from keras.utils.vis_utils import plot_model"
   ]
  },
  {
   "cell_type": "code",
   "execution_count": 7,
   "id": "1dbeb3bb",
   "metadata": {
    "_cell_guid": "599628d5-e0f5-4156-967f-c5a3dca68f39",
    "_uuid": "0bf4967f-9372-454a-aa17-18bd33b90d26",
    "collapsed": false,
    "execution": {
     "iopub.execute_input": "2022-07-30T08:38:54.167985Z",
     "iopub.status.busy": "2022-07-30T08:38:54.167722Z",
     "iopub.status.idle": "2022-07-30T08:38:57.566368Z",
     "shell.execute_reply": "2022-07-30T08:38:57.565591Z"
    },
    "jupyter": {
     "outputs_hidden": false
    },
    "papermill": {
     "duration": 3.405672,
     "end_time": "2022-07-30T08:38:57.568369",
     "exception": false,
     "start_time": "2022-07-30T08:38:54.162697",
     "status": "completed"
    },
    "tags": []
   },
   "outputs": [
    {
     "name": "stderr",
     "output_type": "stream",
     "text": [
      "2022-07-30 08:38:54.258908: I tensorflow/stream_executor/cuda/cuda_gpu_executor.cc:937] successful NUMA node read from SysFS had negative value (-1), but there must be at least one NUMA node, so returning NUMA node zero\n",
      "2022-07-30 08:38:54.409520: I tensorflow/stream_executor/cuda/cuda_gpu_executor.cc:937] successful NUMA node read from SysFS had negative value (-1), but there must be at least one NUMA node, so returning NUMA node zero\n",
      "2022-07-30 08:38:54.410372: I tensorflow/stream_executor/cuda/cuda_gpu_executor.cc:937] successful NUMA node read from SysFS had negative value (-1), but there must be at least one NUMA node, so returning NUMA node zero\n",
      "2022-07-30 08:38:54.411514: I tensorflow/core/platform/cpu_feature_guard.cc:142] This TensorFlow binary is optimized with oneAPI Deep Neural Network Library (oneDNN) to use the following CPU instructions in performance-critical operations:  AVX2 AVX512F FMA\n",
      "To enable them in other operations, rebuild TensorFlow with the appropriate compiler flags.\n",
      "2022-07-30 08:38:54.411792: I tensorflow/stream_executor/cuda/cuda_gpu_executor.cc:937] successful NUMA node read from SysFS had negative value (-1), but there must be at least one NUMA node, so returning NUMA node zero\n",
      "2022-07-30 08:38:54.412506: I tensorflow/stream_executor/cuda/cuda_gpu_executor.cc:937] successful NUMA node read from SysFS had negative value (-1), but there must be at least one NUMA node, so returning NUMA node zero\n",
      "2022-07-30 08:38:54.413150: I tensorflow/stream_executor/cuda/cuda_gpu_executor.cc:937] successful NUMA node read from SysFS had negative value (-1), but there must be at least one NUMA node, so returning NUMA node zero\n",
      "2022-07-30 08:38:56.524161: I tensorflow/stream_executor/cuda/cuda_gpu_executor.cc:937] successful NUMA node read from SysFS had negative value (-1), but there must be at least one NUMA node, so returning NUMA node zero\n",
      "2022-07-30 08:38:56.525066: I tensorflow/stream_executor/cuda/cuda_gpu_executor.cc:937] successful NUMA node read from SysFS had negative value (-1), but there must be at least one NUMA node, so returning NUMA node zero\n",
      "2022-07-30 08:38:56.525728: I tensorflow/stream_executor/cuda/cuda_gpu_executor.cc:937] successful NUMA node read from SysFS had negative value (-1), but there must be at least one NUMA node, so returning NUMA node zero\n",
      "2022-07-30 08:38:56.526320: I tensorflow/core/common_runtime/gpu/gpu_device.cc:1510] Created device /job:localhost/replica:0/task:0/device:GPU:0 with 15403 MB memory:  -> device: 0, name: Tesla P100-PCIE-16GB, pci bus id: 0000:00:04.0, compute capability: 6.0\n"
     ]
    }
   ],
   "source": [
    "inputs = Input(shape=(224, 224, 3))\n",
    "outputs = exit_flow(middle_flow(entry_flow(inputs)))\n",
    "model = Model(inputs, outputs)"
   ]
  },
  {
   "cell_type": "code",
   "execution_count": 8,
   "id": "6bc07a4f",
   "metadata": {
    "_cell_guid": "4570d0a9-05da-4401-8524-d69357fd75c8",
    "_uuid": "42fe651c-9db7-4a63-aaad-ac846a44bdad",
    "collapsed": false,
    "execution": {
     "iopub.execute_input": "2022-07-30T08:38:57.579466Z",
     "iopub.status.busy": "2022-07-30T08:38:57.578733Z",
     "iopub.status.idle": "2022-07-30T08:38:57.593841Z",
     "shell.execute_reply": "2022-07-30T08:38:57.593163Z"
    },
    "jupyter": {
     "outputs_hidden": false
    },
    "papermill": {
     "duration": 0.022212,
     "end_time": "2022-07-30T08:38:57.595424",
     "exception": false,
     "start_time": "2022-07-30T08:38:57.573212",
     "status": "completed"
    },
    "tags": []
   },
   "outputs": [],
   "source": [
    "model.compile(optimizer='adam', loss='binary_crossentropy', metrics=['accuracy'])"
   ]
  },
  {
   "cell_type": "code",
   "execution_count": 9,
   "id": "e06b979b",
   "metadata": {
    "_cell_guid": "5cdc3e79-47b0-463e-9f90-1e6517fc145a",
    "_uuid": "ec126b1b-cb64-4e1e-8b8f-03be18eef7d6",
    "collapsed": false,
    "execution": {
     "iopub.execute_input": "2022-07-30T08:38:57.605948Z",
     "iopub.status.busy": "2022-07-30T08:38:57.605286Z",
     "iopub.status.idle": "2022-07-30T08:38:57.610736Z",
     "shell.execute_reply": "2022-07-30T08:38:57.610055Z"
    },
    "jupyter": {
     "outputs_hidden": false
    },
    "papermill": {
     "duration": 0.012326,
     "end_time": "2022-07-30T08:38:57.612370",
     "exception": false,
     "start_time": "2022-07-30T08:38:57.600044",
     "status": "completed"
    },
    "tags": []
   },
   "outputs": [],
   "source": [
    "checkpoint = ModelCheckpoint(filepath='checkpoint.h5',\n",
    "                             save_best_only=True,\n",
    "                             verbose=1,\n",
    "                             mode='min',\n",
    "                             moniter='val_loss'\n",
    "                            )\n",
    "reduce_lr = ReduceLROnPlateau(monitor='val_loss', \n",
    "                              factor=0.2, \n",
    "                              patience=3, \n",
    "                              verbose=1, \n",
    "                              min_delta=0.0001\n",
    "                             )\n",
    "csv_logger = CSVLogger('training.log')\n",
    "\n",
    "callbacks = [checkpoint, reduce_lr, csv_logger]"
   ]
  },
  {
   "cell_type": "code",
   "execution_count": 10,
   "id": "1755c09c",
   "metadata": {
    "_cell_guid": "51df1130-c66f-4255-b686-1039c09a8a02",
    "_uuid": "90e04ade-d35a-419b-a5c1-d76da7f41dae",
    "collapsed": false,
    "execution": {
     "iopub.execute_input": "2022-07-30T08:38:57.622486Z",
     "iopub.status.busy": "2022-07-30T08:38:57.622236Z",
     "iopub.status.idle": "2022-07-30T19:03:15.209160Z",
     "shell.execute_reply": "2022-07-30T19:03:15.208282Z"
    },
    "jupyter": {
     "outputs_hidden": false
    },
    "papermill": {
     "duration": 37460.13845,
     "end_time": "2022-07-30T19:03:17.755339",
     "exception": false,
     "start_time": "2022-07-30T08:38:57.616889",
     "status": "completed"
    },
    "tags": []
   },
   "outputs": [
    {
     "name": "stderr",
     "output_type": "stream",
     "text": [
      "2022-07-30 08:38:58.327132: I tensorflow/compiler/mlir/mlir_graph_optimization_pass.cc:185] None of the MLIR Optimization Passes are enabled (registered 2)\n"
     ]
    },
    {
     "name": "stdout",
     "output_type": "stream",
     "text": [
      "Epoch 1/25\n"
     ]
    },
    {
     "name": "stderr",
     "output_type": "stream",
     "text": [
      "2022-07-30 08:39:04.583038: I tensorflow/stream_executor/cuda/cuda_dnn.cc:369] Loaded cuDNN version 8005\n"
     ]
    },
    {
     "name": "stdout",
     "output_type": "stream",
     "text": [
      "1562/1562 [==============================] - 1400s 888ms/step - loss: 7.3999 - accuracy: 0.5093 - val_loss: 7.4580 - val_accuracy: 0.5067\n",
      "\n",
      "Epoch 00001: val_loss improved from inf to 7.45801, saving model to checkpoint.h5\n"
     ]
    },
    {
     "name": "stderr",
     "output_type": "stream",
     "text": [
      "/opt/conda/lib/python3.7/site-packages/keras/utils/generic_utils.py:497: CustomMaskWarning: Custom mask layers require a config and must override get_config. When loading, the custom mask layer must be passed to the custom_objects argument.\n",
      "  category=CustomMaskWarning)\n"
     ]
    },
    {
     "name": "stdout",
     "output_type": "stream",
     "text": [
      "Epoch 2/25\n",
      "1562/1562 [==============================] - 1273s 815ms/step - loss: 7.3434 - accuracy: 0.5117 - val_loss: 7.2267 - val_accuracy: 0.5206\n",
      "\n",
      "Epoch 00002: val_loss improved from 7.45801 to 7.22665, saving model to checkpoint.h5\n",
      "Epoch 3/25\n",
      "1562/1562 [==============================] - 1273s 815ms/step - loss: 7.3437 - accuracy: 0.5132 - val_loss: 7.2601 - val_accuracy: 0.5178\n",
      "\n",
      "Epoch 00003: val_loss did not improve from 7.22665\n",
      "Epoch 4/25\n",
      "1562/1562 [==============================] - 1272s 814ms/step - loss: 7.2517 - accuracy: 0.5073 - val_loss: 6.9230 - val_accuracy: 0.5160\n",
      "\n",
      "Epoch 00004: val_loss improved from 7.22665 to 6.92300, saving model to checkpoint.h5\n",
      "Epoch 5/25\n",
      "1562/1562 [==============================] - 3127s 2s/step - loss: 7.0921 - accuracy: 0.5079 - val_loss: 7.0878 - val_accuracy: 0.5153\n",
      "\n",
      "Epoch 00005: val_loss did not improve from 6.92300\n",
      "Epoch 6/25\n",
      "1562/1562 [==============================] - 1317s 843ms/step - loss: 7.1444 - accuracy: 0.5125 - val_loss: 6.6812 - val_accuracy: 0.5355\n",
      "\n",
      "Epoch 00006: val_loss improved from 6.92300 to 6.68121, saving model to checkpoint.h5\n",
      "Epoch 7/25\n",
      "1562/1562 [==============================] - 1273s 815ms/step - loss: 7.0117 - accuracy: 0.5212 - val_loss: 7.0155 - val_accuracy: 0.5218\n",
      "\n",
      "Epoch 00007: val_loss did not improve from 6.68121\n",
      "Epoch 8/25\n",
      "1562/1562 [==============================] - 1277s 818ms/step - loss: 6.8833 - accuracy: 0.5247 - val_loss: 7.2424 - val_accuracy: 0.5132\n",
      "\n",
      "Epoch 00008: val_loss did not improve from 6.68121\n",
      "Epoch 9/25\n",
      "1562/1562 [==============================] - 1286s 823ms/step - loss: 6.4582 - accuracy: 0.5207 - val_loss: 0.8073 - val_accuracy: 0.5008\n",
      "\n",
      "Epoch 00009: val_loss improved from 6.68121 to 0.80732, saving model to checkpoint.h5\n",
      "Epoch 10/25\n",
      "1562/1562 [==============================] - 1291s 826ms/step - loss: 1.4579 - accuracy: 0.5422 - val_loss: 0.6787 - val_accuracy: 0.5615\n",
      "\n",
      "Epoch 00010: val_loss improved from 0.80732 to 0.67865, saving model to checkpoint.h5\n",
      "Epoch 11/25\n",
      "1562/1562 [==============================] - 1288s 824ms/step - loss: 3.6396 - accuracy: 0.5333 - val_loss: 7.0104 - val_accuracy: 0.5059\n",
      "\n",
      "Epoch 00011: val_loss did not improve from 0.67865\n",
      "Epoch 12/25\n",
      "1562/1562 [==============================] - 1276s 817ms/step - loss: 5.8869 - accuracy: 0.5113 - val_loss: 0.8666 - val_accuracy: 0.5349\n",
      "\n",
      "Epoch 00012: val_loss did not improve from 0.67865\n",
      "Epoch 13/25\n",
      "1562/1562 [==============================] - 1293s 828ms/step - loss: 0.7175 - accuracy: 0.5321 - val_loss: 0.6897 - val_accuracy: 0.5452\n",
      "\n",
      "Epoch 00013: val_loss did not improve from 0.67865\n",
      "\n",
      "Epoch 00013: ReduceLROnPlateau reducing learning rate to 0.00020000000949949026.\n",
      "Epoch 14/25\n",
      "1562/1562 [==============================] - 1289s 825ms/step - loss: 1.2115 - accuracy: 0.5305 - val_loss: 0.6869 - val_accuracy: 0.5484\n",
      "\n",
      "Epoch 00014: val_loss did not improve from 0.67865\n",
      "Epoch 15/25\n",
      "1562/1562 [==============================] - 1279s 818ms/step - loss: 0.6869 - accuracy: 0.5496 - val_loss: 0.6852 - val_accuracy: 0.5609\n",
      "\n",
      "Epoch 00015: val_loss did not improve from 0.67865\n",
      "Epoch 16/25\n",
      "1562/1562 [==============================] - 1295s 829ms/step - loss: 0.6810 - accuracy: 0.5712 - val_loss: 0.6715 - val_accuracy: 0.5896\n",
      "\n",
      "Epoch 00016: val_loss improved from 0.67865 to 0.67155, saving model to checkpoint.h5\n",
      "Epoch 17/25\n",
      "1562/1562 [==============================] - 1274s 816ms/step - loss: 0.6788 - accuracy: 0.5924 - val_loss: 0.6805 - val_accuracy: 0.5566\n",
      "\n",
      "Epoch 00017: val_loss did not improve from 0.67155\n",
      "Epoch 18/25\n",
      "1562/1562 [==============================] - 1338s 857ms/step - loss: 0.6613 - accuracy: 0.6078 - val_loss: 0.6569 - val_accuracy: 0.6188\n",
      "\n",
      "Epoch 00018: val_loss improved from 0.67155 to 0.65691, saving model to checkpoint.h5\n",
      "Epoch 19/25\n",
      "1562/1562 [==============================] - 1293s 828ms/step - loss: 0.6504 - accuracy: 0.6271 - val_loss: 0.6432 - val_accuracy: 0.6343\n",
      "\n",
      "Epoch 00019: val_loss improved from 0.65691 to 0.64325, saving model to checkpoint.h5\n",
      "Epoch 20/25\n",
      "1562/1562 [==============================] - 1292s 827ms/step - loss: 0.6269 - accuracy: 0.6607 - val_loss: 0.6234 - val_accuracy: 0.6622\n",
      "\n",
      "Epoch 00020: val_loss improved from 0.64325 to 0.62341, saving model to checkpoint.h5\n",
      "Epoch 21/25\n",
      "1562/1562 [==============================] - 1275s 816ms/step - loss: 0.6779 - accuracy: 0.6114 - val_loss: 0.6557 - val_accuracy: 0.6126\n",
      "\n",
      "Epoch 00021: val_loss did not improve from 0.62341\n",
      "Epoch 22/25\n",
      "1562/1562 [==============================] - 2846s 2s/step - loss: 0.6237 - accuracy: 0.6604 - val_loss: 0.5816 - val_accuracy: 0.6975\n",
      "\n",
      "Epoch 00022: val_loss improved from 0.62341 to 0.58157, saving model to checkpoint.h5\n",
      "Epoch 23/25\n",
      "1562/1562 [==============================] - 2647s 2s/step - loss: 0.5905 - accuracy: 0.6986 - val_loss: 0.6082 - val_accuracy: 0.6772\n",
      "\n",
      "Epoch 00023: val_loss did not improve from 0.58157\n",
      "Epoch 24/25\n",
      "1562/1562 [==============================] - 1278s 818ms/step - loss: 0.7045 - accuracy: 0.6881 - val_loss: 2.7225 - val_accuracy: 0.4934\n",
      "\n",
      "Epoch 00024: val_loss did not improve from 0.58157\n",
      "Epoch 25/25\n",
      "1562/1562 [==============================] - 1280s 819ms/step - loss: 0.6931 - accuracy: 0.5611 - val_loss: 0.6610 - val_accuracy: 0.6064\n",
      "\n",
      "Epoch 00025: val_loss did not improve from 0.58157\n",
      "\n",
      "Epoch 00025: ReduceLROnPlateau reducing learning rate to 4.0000001899898055e-05.\n"
     ]
    },
    {
     "data": {
      "text/plain": [
       "<keras.callbacks.History at 0x7f46df92f4d0>"
      ]
     },
     "execution_count": 10,
     "metadata": {},
     "output_type": "execute_result"
    }
   ],
   "source": [
    "train_steps = 100000//64\n",
    "valid_steps = 20000//64\n",
    "\n",
    "model.fit(\n",
    "    train_flow,\n",
    "    epochs=25,\n",
    "    callbacks = callbacks,\n",
    "    steps_per_epoch=train_steps,\n",
    "    validation_data=valid_flow,\n",
    "    validation_steps=valid_steps\n",
    ")"
   ]
  },
  {
   "cell_type": "code",
   "execution_count": 11,
   "id": "6f7f9e52",
   "metadata": {
    "_cell_guid": "0963d61b-890e-4d3f-86c5-1c7b6bca2622",
    "_uuid": "9d49ce42-35c0-49b4-8d8f-b2e9c35d3608",
    "collapsed": false,
    "execution": {
     "iopub.execute_input": "2022-07-30T19:03:23.597191Z",
     "iopub.status.busy": "2022-07-30T19:03:23.596801Z",
     "iopub.status.idle": "2022-07-30T19:03:44.432284Z",
     "shell.execute_reply": "2022-07-30T19:03:44.431437Z"
    },
    "jupyter": {
     "outputs_hidden": false
    },
    "papermill": {
     "duration": 23.849187,
     "end_time": "2022-07-30T19:03:44.436114",
     "exception": false,
     "start_time": "2022-07-30T19:03:20.586927",
     "status": "completed"
    },
    "tags": []
   },
   "outputs": [
    {
     "name": "stderr",
     "output_type": "stream",
     "text": [
      "2022-07-30 19:03:30.805999: W tensorflow/python/util/util.cc:348] Sets are not currently considered sequences, but this may change in the future, so consider avoiding using them.\n",
      "/opt/conda/lib/python3.7/site-packages/keras/utils/generic_utils.py:497: CustomMaskWarning: Custom mask layers require a config and must override get_config. When loading, the custom mask layer must be passed to the custom_objects argument.\n",
      "  category=CustomMaskWarning)\n"
     ]
    }
   ],
   "source": [
    "model.save('./deepfake_models')"
   ]
  },
  {
   "cell_type": "code",
   "execution_count": 12,
   "id": "75f99a23",
   "metadata": {
    "_cell_guid": "ad874491-cf56-4ae4-b750-a847cba15d53",
    "_uuid": "33e850d5-6250-47bd-8d6f-d1ecd4d52598",
    "collapsed": false,
    "execution": {
     "iopub.execute_input": "2022-07-30T19:03:49.373729Z",
     "iopub.status.busy": "2022-07-30T19:03:49.373364Z",
     "iopub.status.idle": "2022-07-30T19:03:49.376630Z",
     "shell.execute_reply": "2022-07-30T19:03:49.375887Z"
    },
    "jupyter": {
     "outputs_hidden": false
    },
    "papermill": {
     "duration": 2.565601,
     "end_time": "2022-07-30T19:03:49.378287",
     "exception": false,
     "start_time": "2022-07-30T19:03:46.812686",
     "status": "completed"
    },
    "tags": []
   },
   "outputs": [],
   "source": [
    "# model = load_model('../input/trainedmodel/deepfake_models/')\n",
    "# model.summary()"
   ]
  },
  {
   "cell_type": "code",
   "execution_count": 13,
   "id": "691410d6",
   "metadata": {
    "_cell_guid": "99297d6e-52b9-4f07-89db-bdd15c0a2dae",
    "_uuid": "8574f713-16d8-4a2f-b1d1-48b996219d80",
    "collapsed": false,
    "execution": {
     "iopub.execute_input": "2022-07-30T19:03:54.511309Z",
     "iopub.status.busy": "2022-07-30T19:03:54.510963Z",
     "iopub.status.idle": "2022-07-30T19:14:53.293541Z",
     "shell.execute_reply": "2022-07-30T19:14:53.292371Z"
    },
    "jupyter": {
     "outputs_hidden": false
    },
    "papermill": {
     "duration": 661.509136,
     "end_time": "2022-07-30T19:14:53.295354",
     "exception": false,
     "start_time": "2022-07-30T19:03:51.786218",
     "status": "completed"
    },
    "tags": []
   },
   "outputs": [
    {
     "name": "stdout",
     "output_type": "stream",
     "text": [
      "313/313 [==============================] - 656s 2s/step - loss: 0.6634 - accuracy: 0.6011\n",
      "Final Test Acccuracy = 60.115\n"
     ]
    }
   ],
   "source": [
    "_, accu = model.evaluate(test_flow)\n",
    "print('Final Test Acccuracy = {:.3f}'.format(accu*100))"
   ]
  },
  {
   "cell_type": "code",
   "execution_count": 14,
   "id": "09da3640",
   "metadata": {
    "_cell_guid": "a644a9ed-79df-42a6-b380-b2d2a528c484",
    "_uuid": "948aa986-0051-405b-b04f-e1f5e3bd8246",
    "collapsed": false,
    "execution": {
     "iopub.execute_input": "2022-07-30T19:14:58.935187Z",
     "iopub.status.busy": "2022-07-30T19:14:58.934749Z",
     "iopub.status.idle": "2022-07-30T19:16:04.092370Z",
     "shell.execute_reply": "2022-07-30T19:16:04.091531Z"
    },
    "jupyter": {
     "outputs_hidden": false
    },
    "papermill": {
     "duration": 67.790161,
     "end_time": "2022-07-30T19:16:04.094785",
     "exception": false,
     "start_time": "2022-07-30T19:14:56.304624",
     "status": "completed"
    },
    "tags": []
   },
   "outputs": [],
   "source": [
    "y_pred = model.predict(test_flow)\n",
    "y_test = test_flow.classes"
   ]
  },
  {
   "cell_type": "code",
   "execution_count": 15,
   "id": "23cb1bfb",
   "metadata": {
    "_cell_guid": "0789b2e2-988c-4455-8d12-d2375c54dd1e",
    "_uuid": "27bdee02-6050-4113-9445-c60249d720f3",
    "collapsed": false,
    "execution": {
     "iopub.execute_input": "2022-07-30T19:16:09.063931Z",
     "iopub.status.busy": "2022-07-30T19:16:09.063557Z",
     "iopub.status.idle": "2022-07-30T19:16:09.112938Z",
     "shell.execute_reply": "2022-07-30T19:16:09.111858Z"
    },
    "jupyter": {
     "outputs_hidden": false
    },
    "papermill": {
     "duration": 2.626371,
     "end_time": "2022-07-30T19:16:09.115867",
     "exception": false,
     "start_time": "2022-07-30T19:16:06.489496",
     "status": "completed"
    },
    "tags": []
   },
   "outputs": [
    {
     "name": "stdout",
     "output_type": "stream",
     "text": [
      "ROC AUC Score: 0.5015535499999999\n",
      "AP Score: 0.5026058196136113\n",
      "\n",
      "              precision    recall  f1-score   support\n",
      "\n",
      "           0       0.50      0.64      0.56     10000\n",
      "           1       0.50      0.37      0.43     10000\n",
      "\n",
      "    accuracy                           0.50     20000\n",
      "   macro avg       0.50      0.50      0.49     20000\n",
      "weighted avg       0.50      0.50      0.49     20000\n",
      "\n"
     ]
    }
   ],
   "source": [
    "print(\"ROC AUC Score:\", metrics.roc_auc_score(y_test, y_pred))\n",
    "print(\"AP Score:\", metrics.average_precision_score(y_test, y_pred))\n",
    "print()\n",
    "print(metrics.classification_report(y_test, y_pred > 0.5))"
   ]
  }
 ],
 "metadata": {
  "kernelspec": {
   "display_name": "Python 3",
   "language": "python",
   "name": "python3"
  },
  "language_info": {
   "codemirror_mode": {
    "name": "ipython",
    "version": 3
   },
   "file_extension": ".py",
   "mimetype": "text/x-python",
   "name": "python",
   "nbconvert_exporter": "python",
   "pygments_lexer": "ipython3",
   "version": "3.7.12"
  },
  "papermill": {
   "default_parameters": {},
   "duration": 38407.826685,
   "end_time": "2022-07-30T19:16:14.566451",
   "environment_variables": {},
   "exception": null,
   "input_path": "__notebook__.ipynb",
   "output_path": "__notebook__.ipynb",
   "parameters": {},
   "start_time": "2022-07-30T08:36:06.739766",
   "version": "2.3.4"
  }
 },
 "nbformat": 4,
 "nbformat_minor": 5
}
