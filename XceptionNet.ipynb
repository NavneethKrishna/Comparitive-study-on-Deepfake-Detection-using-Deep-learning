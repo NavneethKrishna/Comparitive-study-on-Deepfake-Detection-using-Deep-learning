{
 "cells": [
  {
   "cell_type": "code",
   "execution_count": 1,
   "id": "126ecfb0",
   "metadata": {
    "_cell_guid": "d1a34961-97bb-4408-9eba-1eb8424b9be8",
    "_uuid": "8cdb0b3b-c7d2-4d0d-b72f-e12af7594509",
    "collapsed": false,
    "execution": {
     "iopub.execute_input": "2022-08-03T03:00:24.422234Z",
     "iopub.status.busy": "2022-08-03T03:00:24.421796Z",
     "iopub.status.idle": "2022-08-03T03:00:30.882197Z",
     "shell.execute_reply": "2022-08-03T03:00:30.881385Z"
    },
    "jupyter": {
     "outputs_hidden": false
    },
    "papermill": {
     "duration": 6.468429,
     "end_time": "2022-08-03T03:00:30.884471",
     "exception": false,
     "start_time": "2022-08-03T03:00:24.416042",
     "status": "completed"
    },
    "tags": []
   },
   "outputs": [],
   "source": [
    "import numpy as np\n",
    "from tensorflow.keras import layers\n",
    "from tensorflow.keras.layers import Dense, Dropout, Activation, Flatten, Conv2D, MaxPooling2D, SeparableConv2D, UpSampling2D, BatchNormalization, Input, GlobalAveragePooling2D\n",
    "from tensorflow.keras.callbacks import Callback, ReduceLROnPlateau , ModelCheckpoint, CSVLogger\n",
    "from tensorflow.keras.preprocessing.image import ImageDataGenerator\n",
    "from tensorflow.keras.models import Sequential\n",
    "from tensorflow.keras.optimizers import Adam\n",
    "from tensorflow.keras.models import load_model\n",
    "import matplotlib.pyplot as plt\n",
    "import pandas as pd\n",
    "from sklearn import metrics\n",
    "import tensorflow as tf\n",
    "from tqdm import tqdm"
   ]
  },
  {
   "cell_type": "code",
   "execution_count": 2,
   "id": "96b0125d",
   "metadata": {
    "_cell_guid": "540e273d-983d-4dc6-a5b0-085aa0119b27",
    "_uuid": "9a2a4016-dad4-4103-9b66-5b0dc139c0e1",
    "collapsed": false,
    "execution": {
     "iopub.execute_input": "2022-08-03T03:00:30.893002Z",
     "iopub.status.busy": "2022-08-03T03:00:30.892502Z",
     "iopub.status.idle": "2022-08-03T03:01:35.048292Z",
     "shell.execute_reply": "2022-08-03T03:01:35.047410Z"
    },
    "jupyter": {
     "outputs_hidden": false
    },
    "papermill": {
     "duration": 64.162103,
     "end_time": "2022-08-03T03:01:35.050402",
     "exception": false,
     "start_time": "2022-08-03T03:00:30.888299",
     "status": "completed"
    },
    "tags": []
   },
   "outputs": [
    {
     "name": "stdout",
     "output_type": "stream",
     "text": [
      "Found 100000 images belonging to 2 classes.\n",
      "Found 20000 images belonging to 2 classes.\n",
      "Found 20000 images belonging to 2 classes.\n"
     ]
    }
   ],
   "source": [
    "base_path = '../input/140k-real-and-fake-faces/real_vs_fake/real-vs-fake/'\n",
    "image_gen = ImageDataGenerator(rescale=1./255.)\n",
    "\n",
    "train_flow = image_gen.flow_from_directory(\n",
    "    base_path + 'train/',\n",
    "    target_size=(224, 224),\n",
    "    batch_size=64,\n",
    "    class_mode='binary'\n",
    ")\n",
    "\n",
    "valid_flow = image_gen.flow_from_directory(\n",
    "    base_path + 'valid/',\n",
    "    target_size=(224, 224),\n",
    "    batch_size=64,\n",
    "    class_mode='binary'\n",
    ")\n",
    "\n",
    "test_flow = image_gen.flow_from_directory(\n",
    "    base_path + 'test/',\n",
    "    target_size=(224, 224),\n",
    "    batch_size=64,\n",
    "    class_mode='binary'\n",
    ")"
   ]
  },
  {
   "cell_type": "code",
   "execution_count": 3,
   "id": "879a86e7",
   "metadata": {
    "_cell_guid": "b2e8e0c8-8b9d-4f9d-8aac-36592071535c",
    "_uuid": "53289d21-f728-4052-83f5-634e1dea3317",
    "collapsed": false,
    "execution": {
     "iopub.execute_input": "2022-08-03T03:01:35.059666Z",
     "iopub.status.busy": "2022-08-03T03:01:35.058965Z",
     "iopub.status.idle": "2022-08-03T03:01:35.066451Z",
     "shell.execute_reply": "2022-08-03T03:01:35.065690Z"
    },
    "jupyter": {
     "outputs_hidden": false
    },
    "papermill": {
     "duration": 0.013859,
     "end_time": "2022-08-03T03:01:35.068159",
     "exception": false,
     "start_time": "2022-08-03T03:01:35.054300",
     "status": "completed"
    },
    "tags": []
   },
   "outputs": [],
   "source": [
    "def entry_flow(inputs) :\n",
    "\n",
    "    x = Conv2D(32, 3, strides = 2, padding='same')(inputs)\n",
    "    x = BatchNormalization()(x)\n",
    "    x = Activation('relu')(x)\n",
    "\n",
    "    x = Conv2D(64,3,padding='same')(x)\n",
    "    x = BatchNormalization()(x)\n",
    "    x = Activation('relu')(x)\n",
    "\n",
    "    previous_block_activation = x\n",
    "\n",
    "    for size in [128, 256, 728] :\n",
    "\n",
    "        x = Activation('relu')(x)\n",
    "        x = SeparableConv2D(size, 3, padding='same')(x)\n",
    "        x = BatchNormalization()(x)\n",
    "\n",
    "        x = Activation('relu')(x)\n",
    "        x = SeparableConv2D(size, 3, padding='same')(x)\n",
    "        x = BatchNormalization()(x)\n",
    "\n",
    "        x = MaxPooling2D(3, strides=2, padding='same')(x)\n",
    "\n",
    "        residual = Conv2D(size, 1, strides=2, padding='same')(previous_block_activation)\n",
    "\n",
    "        x = tensorflow.keras.layers.Add()([x, residual])\n",
    "        previous_block_activation = x\n",
    "\n",
    "    return x"
   ]
  },
  {
   "cell_type": "code",
   "execution_count": 4,
   "id": "4cc8b111",
   "metadata": {
    "_cell_guid": "d1e54764-457e-4abf-aec7-c9440da24cf3",
    "_uuid": "8e416687-5f23-4ccb-bb04-1c232f5ae676",
    "collapsed": false,
    "execution": {
     "iopub.execute_input": "2022-08-03T03:01:35.076984Z",
     "iopub.status.busy": "2022-08-03T03:01:35.076279Z",
     "iopub.status.idle": "2022-08-03T03:01:35.082695Z",
     "shell.execute_reply": "2022-08-03T03:01:35.081981Z"
    },
    "jupyter": {
     "outputs_hidden": false
    },
    "papermill": {
     "duration": 0.012453,
     "end_time": "2022-08-03T03:01:35.084349",
     "exception": false,
     "start_time": "2022-08-03T03:01:35.071896",
     "status": "completed"
    },
    "tags": []
   },
   "outputs": [],
   "source": [
    "def middle_flow(x, num_blocks=8) :\n",
    "\n",
    "    previous_block_activation = x\n",
    "\n",
    "    for _ in range(num_blocks) :\n",
    "\n",
    "        x = Activation('relu')(x)\n",
    "        x = SeparableConv2D(728, 3, padding='same')(x)\n",
    "        x = BatchNormalization()(x)\n",
    "\n",
    "        x = Activation('relu')(x)\n",
    "        x = SeparableConv2D(728, 3, padding='same')(x)\n",
    "        x = BatchNormalization()(x)\n",
    "\n",
    "        x = Activation('relu')(x)\n",
    "        x = SeparableConv2D(728, 3, padding='same')(x)\n",
    "        x = BatchNormalization()(x)\n",
    "\n",
    "        x = tensorflow.keras.layers.Add()([x, previous_block_activation])\n",
    "        previous_block_activation = x\n",
    "\n",
    "    return x"
   ]
  },
  {
   "cell_type": "code",
   "execution_count": 5,
   "id": "8b2d746e",
   "metadata": {
    "_cell_guid": "2fc52318-696f-430b-8541-3effd5aa4545",
    "_uuid": "90d856b9-f8c7-483f-aadf-467e78206f07",
    "collapsed": false,
    "execution": {
     "iopub.execute_input": "2022-08-03T03:01:35.092869Z",
     "iopub.status.busy": "2022-08-03T03:01:35.092395Z",
     "iopub.status.idle": "2022-08-03T03:01:35.105235Z",
     "shell.execute_reply": "2022-08-03T03:01:35.104402Z"
    },
    "jupyter": {
     "outputs_hidden": false
    },
    "papermill": {
     "duration": 0.018855,
     "end_time": "2022-08-03T03:01:35.106880",
     "exception": false,
     "start_time": "2022-08-03T03:01:35.088025",
     "status": "completed"
    },
    "tags": []
   },
   "outputs": [],
   "source": [
    "def exit_flow(x) :\n",
    "\n",
    "    previous_block_activation = x\n",
    "\n",
    "    x = Activation('relu')(x)\n",
    "    x = SeparableConv2D(728, 3, padding='same')(x)\n",
    "    x = BatchNormalization()(x)\n",
    "\n",
    "    x = Activation('relu')(x)\n",
    "    x = SeparableConv2D(1024, 3, padding='same')(x) \n",
    "    x = BatchNormalization()(x)\n",
    "\n",
    "    x = MaxPooling2D(3, strides=2, padding='same')(x)\n",
    "\n",
    "    residual = Conv2D(1024, 1, strides=2, padding='same')(previous_block_activation)\n",
    "    x = tensorflow.keras.layers.Add()([x, residual])\n",
    "\n",
    "    x = Activation('relu')(x)\n",
    "    x = SeparableConv2D(728, 3, padding='same')(x)\n",
    "    x = BatchNormalization()(x)\n",
    "\n",
    "    x = Activation('relu')(x)\n",
    "    x = SeparableConv2D(1024, 3, padding='same')(x)\n",
    "    x = BatchNormalization()(x)\n",
    "\n",
    "    x = GlobalAveragePooling2D()(x)\n",
    "    x = Dense(1, activation='linear')(x)\n",
    "\n",
    "    return x"
   ]
  },
  {
   "cell_type": "code",
   "execution_count": 6,
   "id": "d259eec3",
   "metadata": {
    "_cell_guid": "5f06a729-8294-419f-83b6-577c727297e7",
    "_uuid": "c60b9327-e375-4dc5-8b42-12a89f892e4b",
    "collapsed": false,
    "execution": {
     "iopub.execute_input": "2022-08-03T03:01:35.115752Z",
     "iopub.status.busy": "2022-08-03T03:01:35.115135Z",
     "iopub.status.idle": "2022-08-03T03:01:35.121360Z",
     "shell.execute_reply": "2022-08-03T03:01:35.120593Z"
    },
    "jupyter": {
     "outputs_hidden": false
    },
    "papermill": {
     "duration": 0.012437,
     "end_time": "2022-08-03T03:01:35.123056",
     "exception": false,
     "start_time": "2022-08-03T03:01:35.110619",
     "status": "completed"
    },
    "tags": []
   },
   "outputs": [],
   "source": [
    "import tensorflow as tf\n",
    "import tensorflow.keras\n",
    "\n",
    "from tensorflow.keras import models, layers\n",
    "from tensorflow.keras.models import Model, model_from_json, Sequential\n",
    "\n",
    "from tensorflow.keras.preprocessing.image import ImageDataGenerator, array_to_img, img_to_array, load_img\n",
    "from tensorflow.keras.callbacks import TensorBoard\n",
    "from tensorflow.keras.layers import Dense, Dropout, Activation, Flatten, Conv2D, MaxPooling2D, SeparableConv2D, UpSampling2D, BatchNormalization, Input, GlobalAveragePooling2D\n",
    "\n",
    "from tensorflow.keras.regularizers import l2\n",
    "from tensorflow.keras.optimizers import SGD, RMSprop\n",
    "from tensorflow.keras.utils import to_categorical\n",
    "from keras.utils.vis_utils import plot_model"
   ]
  },
  {
   "cell_type": "code",
   "execution_count": 7,
   "id": "cd0712f6",
   "metadata": {
    "_cell_guid": "599628d5-e0f5-4156-967f-c5a3dca68f39",
    "_uuid": "0bf4967f-9372-454a-aa17-18bd33b90d26",
    "collapsed": false,
    "execution": {
     "iopub.execute_input": "2022-08-03T03:01:35.131761Z",
     "iopub.status.busy": "2022-08-03T03:01:35.131481Z",
     "iopub.status.idle": "2022-08-03T03:01:38.760383Z",
     "shell.execute_reply": "2022-08-03T03:01:38.759581Z"
    },
    "jupyter": {
     "outputs_hidden": false
    },
    "papermill": {
     "duration": 3.635706,
     "end_time": "2022-08-03T03:01:38.762545",
     "exception": false,
     "start_time": "2022-08-03T03:01:35.126839",
     "status": "completed"
    },
    "tags": []
   },
   "outputs": [
    {
     "name": "stderr",
     "output_type": "stream",
     "text": [
      "2022-08-03 03:01:35.245713: I tensorflow/stream_executor/cuda/cuda_gpu_executor.cc:937] successful NUMA node read from SysFS had negative value (-1), but there must be at least one NUMA node, so returning NUMA node zero\n",
      "2022-08-03 03:01:35.363156: I tensorflow/stream_executor/cuda/cuda_gpu_executor.cc:937] successful NUMA node read from SysFS had negative value (-1), but there must be at least one NUMA node, so returning NUMA node zero\n",
      "2022-08-03 03:01:35.363956: I tensorflow/stream_executor/cuda/cuda_gpu_executor.cc:937] successful NUMA node read from SysFS had negative value (-1), but there must be at least one NUMA node, so returning NUMA node zero\n",
      "2022-08-03 03:01:35.365152: I tensorflow/core/platform/cpu_feature_guard.cc:142] This TensorFlow binary is optimized with oneAPI Deep Neural Network Library (oneDNN) to use the following CPU instructions in performance-critical operations:  AVX2 AVX512F FMA\n",
      "To enable them in other operations, rebuild TensorFlow with the appropriate compiler flags.\n",
      "2022-08-03 03:01:35.365423: I tensorflow/stream_executor/cuda/cuda_gpu_executor.cc:937] successful NUMA node read from SysFS had negative value (-1), but there must be at least one NUMA node, so returning NUMA node zero\n",
      "2022-08-03 03:01:35.366184: I tensorflow/stream_executor/cuda/cuda_gpu_executor.cc:937] successful NUMA node read from SysFS had negative value (-1), but there must be at least one NUMA node, so returning NUMA node zero\n",
      "2022-08-03 03:01:35.366927: I tensorflow/stream_executor/cuda/cuda_gpu_executor.cc:937] successful NUMA node read from SysFS had negative value (-1), but there must be at least one NUMA node, so returning NUMA node zero\n",
      "2022-08-03 03:01:37.691717: I tensorflow/stream_executor/cuda/cuda_gpu_executor.cc:937] successful NUMA node read from SysFS had negative value (-1), but there must be at least one NUMA node, so returning NUMA node zero\n",
      "2022-08-03 03:01:37.692574: I tensorflow/stream_executor/cuda/cuda_gpu_executor.cc:937] successful NUMA node read from SysFS had negative value (-1), but there must be at least one NUMA node, so returning NUMA node zero\n",
      "2022-08-03 03:01:37.693303: I tensorflow/stream_executor/cuda/cuda_gpu_executor.cc:937] successful NUMA node read from SysFS had negative value (-1), but there must be at least one NUMA node, so returning NUMA node zero\n",
      "2022-08-03 03:01:37.693923: I tensorflow/core/common_runtime/gpu/gpu_device.cc:1510] Created device /job:localhost/replica:0/task:0/device:GPU:0 with 15403 MB memory:  -> device: 0, name: Tesla P100-PCIE-16GB, pci bus id: 0000:00:04.0, compute capability: 6.0\n"
     ]
    }
   ],
   "source": [
    "inputs = Input(shape=(224, 224, 3))\n",
    "outputs = exit_flow(middle_flow(entry_flow(inputs)))\n",
    "model = Model(inputs, outputs)"
   ]
  },
  {
   "cell_type": "code",
   "execution_count": 8,
   "id": "06011424",
   "metadata": {
    "_cell_guid": "4570d0a9-05da-4401-8524-d69357fd75c8",
    "_uuid": "42fe651c-9db7-4a63-aaad-ac846a44bdad",
    "collapsed": false,
    "execution": {
     "iopub.execute_input": "2022-08-03T03:01:38.772397Z",
     "iopub.status.busy": "2022-08-03T03:01:38.771733Z",
     "iopub.status.idle": "2022-08-03T03:01:38.784274Z",
     "shell.execute_reply": "2022-08-03T03:01:38.783601Z"
    },
    "jupyter": {
     "outputs_hidden": false
    },
    "papermill": {
     "duration": 0.019213,
     "end_time": "2022-08-03T03:01:38.786088",
     "exception": false,
     "start_time": "2022-08-03T03:01:38.766875",
     "status": "completed"
    },
    "tags": []
   },
   "outputs": [],
   "source": [
    "model.compile(optimizer='adam', loss='binary_crossentropy', metrics=['accuracy'])"
   ]
  },
  {
   "cell_type": "code",
   "execution_count": 9,
   "id": "29061640",
   "metadata": {
    "_cell_guid": "5cdc3e79-47b0-463e-9f90-1e6517fc145a",
    "_uuid": "ec126b1b-cb64-4e1e-8b8f-03be18eef7d6",
    "collapsed": false,
    "execution": {
     "iopub.execute_input": "2022-08-03T03:01:38.795192Z",
     "iopub.status.busy": "2022-08-03T03:01:38.794566Z",
     "iopub.status.idle": "2022-08-03T03:01:38.800192Z",
     "shell.execute_reply": "2022-08-03T03:01:38.799509Z"
    },
    "jupyter": {
     "outputs_hidden": false
    },
    "papermill": {
     "duration": 0.011904,
     "end_time": "2022-08-03T03:01:38.801876",
     "exception": false,
     "start_time": "2022-08-03T03:01:38.789972",
     "status": "completed"
    },
    "tags": []
   },
   "outputs": [],
   "source": [
    "checkpoint = ModelCheckpoint(filepath='checkpoint.h5',\n",
    "                             save_best_only=True,\n",
    "                             verbose=1,\n",
    "                             mode='min',\n",
    "                             moniter='val_loss'\n",
    "                            )\n",
    "reduce_lr = ReduceLROnPlateau(monitor='val_loss', \n",
    "                              factor=0.2, \n",
    "                              patience=3, \n",
    "                              verbose=1, \n",
    "                              min_delta=0.0001\n",
    "                             )\n",
    "csv_logger = CSVLogger('training.log')\n",
    "\n",
    "callbacks = [checkpoint, reduce_lr, csv_logger]"
   ]
  },
  {
   "cell_type": "code",
   "execution_count": 10,
   "id": "85f51198",
   "metadata": {
    "_cell_guid": "51df1130-c66f-4255-b686-1039c09a8a02",
    "_uuid": "90e04ade-d35a-419b-a5c1-d76da7f41dae",
    "collapsed": false,
    "execution": {
     "iopub.execute_input": "2022-08-03T03:01:38.811104Z",
     "iopub.status.busy": "2022-08-03T03:01:38.810554Z",
     "iopub.status.idle": "2022-08-03T12:12:14.598290Z",
     "shell.execute_reply": "2022-08-03T12:12:14.597496Z"
    },
    "jupyter": {
     "outputs_hidden": false
    },
    "papermill": {
     "duration": 33038.205183,
     "end_time": "2022-08-03T12:12:17.011104",
     "exception": false,
     "start_time": "2022-08-03T03:01:38.805921",
     "status": "completed"
    },
    "tags": []
   },
   "outputs": [
    {
     "name": "stderr",
     "output_type": "stream",
     "text": [
      "2022-08-03 03:01:39.459545: I tensorflow/compiler/mlir/mlir_graph_optimization_pass.cc:185] None of the MLIR Optimization Passes are enabled (registered 2)\n"
     ]
    },
    {
     "name": "stdout",
     "output_type": "stream",
     "text": [
      "Epoch 1/25\n"
     ]
    },
    {
     "name": "stderr",
     "output_type": "stream",
     "text": [
      "2022-08-03 03:01:45.402265: I tensorflow/stream_executor/cuda/cuda_dnn.cc:369] Loaded cuDNN version 8005\n"
     ]
    },
    {
     "name": "stdout",
     "output_type": "stream",
     "text": [
      "1562/1562 [==============================] - 1355s 860ms/step - loss: 7.5150 - accuracy: 0.5019 - val_loss: 7.6129 - val_accuracy: 0.5018\n",
      "\n",
      "Epoch 00001: val_loss improved from inf to 7.61293, saving model to checkpoint.h5\n"
     ]
    },
    {
     "name": "stderr",
     "output_type": "stream",
     "text": [
      "/opt/conda/lib/python3.7/site-packages/keras/utils/generic_utils.py:497: CustomMaskWarning: Custom mask layers require a config and must override get_config. When loading, the custom mask layer must be passed to the custom_objects argument.\n",
      "  category=CustomMaskWarning)\n"
     ]
    },
    {
     "name": "stdout",
     "output_type": "stream",
     "text": [
      "Epoch 2/25\n",
      "1562/1562 [==============================] - 1281s 820ms/step - loss: 7.2746 - accuracy: 0.5196 - val_loss: 7.2452 - val_accuracy: 0.5213\n",
      "\n",
      "Epoch 00002: val_loss improved from 7.61293 to 7.24520, saving model to checkpoint.h5\n",
      "Epoch 3/25\n",
      "1562/1562 [==============================] - 1284s 822ms/step - loss: 7.3097 - accuracy: 0.5138 - val_loss: 7.2985 - val_accuracy: 0.5163\n",
      "\n",
      "Epoch 00003: val_loss did not improve from 7.24520\n",
      "Epoch 4/25\n",
      "1562/1562 [==============================] - 1280s 819ms/step - loss: 7.4306 - accuracy: 0.5072 - val_loss: 7.5535 - val_accuracy: 0.4953\n",
      "\n",
      "Epoch 00004: val_loss did not improve from 7.24520\n",
      "Epoch 5/25\n",
      "1562/1562 [==============================] - 1279s 819ms/step - loss: 7.6739 - accuracy: 0.4903 - val_loss: 7.6521 - val_accuracy: 0.4905\n",
      "\n",
      "Epoch 00005: val_loss did not improve from 7.24520\n",
      "\n",
      "Epoch 00005: ReduceLROnPlateau reducing learning rate to 0.00020000000949949026.\n",
      "Epoch 6/25\n",
      "1562/1562 [==============================] - 1281s 820ms/step - loss: 7.4556 - accuracy: 0.4981 - val_loss: 7.3139 - val_accuracy: 0.4927\n",
      "\n",
      "Epoch 00006: val_loss did not improve from 7.24520\n",
      "Epoch 7/25\n",
      "1562/1562 [==============================] - 1290s 826ms/step - loss: 6.4016 - accuracy: 0.4998 - val_loss: 2.5341 - val_accuracy: 0.4912\n",
      "\n",
      "Epoch 00007: val_loss improved from 7.24520 to 2.53412, saving model to checkpoint.h5\n",
      "Epoch 8/25\n",
      "1562/1562 [==============================] - 1285s 822ms/step - loss: 0.7370 - accuracy: 0.5307 - val_loss: 0.6826 - val_accuracy: 0.5616\n",
      "\n",
      "Epoch 00008: val_loss improved from 2.53412 to 0.68259, saving model to checkpoint.h5\n",
      "Epoch 9/25\n",
      "1562/1562 [==============================] - 1288s 824ms/step - loss: 0.6654 - accuracy: 0.5978 - val_loss: 0.6552 - val_accuracy: 0.6210\n",
      "\n",
      "Epoch 00009: val_loss improved from 0.68259 to 0.65515, saving model to checkpoint.h5\n",
      "Epoch 10/25\n",
      "1562/1562 [==============================] - 1291s 827ms/step - loss: 0.6516 - accuracy: 0.6248 - val_loss: 0.6622 - val_accuracy: 0.6198\n",
      "\n",
      "Epoch 00010: val_loss did not improve from 0.65515\n",
      "Epoch 11/25\n",
      "1562/1562 [==============================] - 1293s 828ms/step - loss: 0.6601 - accuracy: 0.6292 - val_loss: 0.6346 - val_accuracy: 0.6434\n",
      "\n",
      "Epoch 00011: val_loss improved from 0.65515 to 0.63464, saving model to checkpoint.h5\n",
      "Epoch 12/25\n",
      "1562/1562 [==============================] - 1287s 824ms/step - loss: 0.7365 - accuracy: 0.6027 - val_loss: 0.7137 - val_accuracy: 0.5992\n",
      "\n",
      "Epoch 00012: val_loss did not improve from 0.63464\n",
      "Epoch 13/25\n",
      "1562/1562 [==============================] - 1293s 828ms/step - loss: 2.2286 - accuracy: 0.6032 - val_loss: 6.5707 - val_accuracy: 0.4981\n",
      "\n",
      "Epoch 00013: val_loss did not improve from 0.63464\n",
      "Epoch 14/25\n",
      "1562/1562 [==============================] - 1291s 826ms/step - loss: 1.1222 - accuracy: 0.6209 - val_loss: 0.6285 - val_accuracy: 0.6556\n",
      "\n",
      "Epoch 00014: val_loss improved from 0.63464 to 0.62846, saving model to checkpoint.h5\n",
      "Epoch 15/25\n",
      "1562/1562 [==============================] - 1290s 826ms/step - loss: 0.6865 - accuracy: 0.6517 - val_loss: 0.6326 - val_accuracy: 0.6376\n",
      "\n",
      "Epoch 00015: val_loss did not improve from 0.62846\n",
      "Epoch 16/25\n",
      "1562/1562 [==============================] - 1289s 825ms/step - loss: 1.7324 - accuracy: 0.5973 - val_loss: 0.6844 - val_accuracy: 0.5567\n",
      "\n",
      "Epoch 00016: val_loss did not improve from 0.62846\n",
      "Epoch 17/25\n",
      "1562/1562 [==============================] - 1291s 826ms/step - loss: 0.6593 - accuracy: 0.6059 - val_loss: 0.6429 - val_accuracy: 0.6397\n",
      "\n",
      "Epoch 00017: val_loss did not improve from 0.62846\n",
      "\n",
      "Epoch 00017: ReduceLROnPlateau reducing learning rate to 4.0000001899898055e-05.\n",
      "Epoch 18/25\n",
      "1562/1562 [==============================] - 1288s 824ms/step - loss: 0.6363 - accuracy: 0.6410 - val_loss: 0.6345 - val_accuracy: 0.6517\n",
      "\n",
      "Epoch 00018: val_loss did not improve from 0.62846\n",
      "Epoch 19/25\n",
      "1562/1562 [==============================] - 1290s 826ms/step - loss: 0.6296 - accuracy: 0.6511 - val_loss: 0.6201 - val_accuracy: 0.6594\n",
      "\n",
      "Epoch 00019: val_loss improved from 0.62846 to 0.62010, saving model to checkpoint.h5\n",
      "Epoch 20/25\n",
      "1562/1562 [==============================] - 1273s 815ms/step - loss: 0.6163 - accuracy: 0.6679 - val_loss: 0.6111 - val_accuracy: 0.6766\n",
      "\n",
      "Epoch 00020: val_loss improved from 0.62010 to 0.61114, saving model to checkpoint.h5\n",
      "Epoch 21/25\n",
      "1562/1562 [==============================] - 1287s 824ms/step - loss: 0.6094 - accuracy: 0.6865 - val_loss: 0.9258 - val_accuracy: 0.5653\n",
      "\n",
      "Epoch 00021: val_loss did not improve from 0.61114\n",
      "Epoch 22/25\n",
      "1562/1562 [==============================] - 1288s 824ms/step - loss: 0.5932 - accuracy: 0.6902 - val_loss: 0.5869 - val_accuracy: 0.7051\n",
      "\n",
      "Epoch 00022: val_loss improved from 0.61114 to 0.58695, saving model to checkpoint.h5\n",
      "Epoch 23/25\n",
      "1562/1562 [==============================] - 1290s 825ms/step - loss: 0.6035 - accuracy: 0.6990 - val_loss: 0.5879 - val_accuracy: 0.6952\n",
      "\n",
      "Epoch 00023: val_loss did not improve from 0.58695\n",
      "Epoch 24/25\n",
      "1562/1562 [==============================] - 1291s 826ms/step - loss: 0.5717 - accuracy: 0.7115 - val_loss: 0.5709 - val_accuracy: 0.7190\n",
      "\n",
      "Epoch 00024: val_loss improved from 0.58695 to 0.57091, saving model to checkpoint.h5\n",
      "Epoch 25/25\n",
      "1562/1562 [==============================] - 1293s 827ms/step - loss: 0.5593 - accuracy: 0.7232 - val_loss: 0.5606 - val_accuracy: 0.7297\n",
      "\n",
      "Epoch 00025: val_loss improved from 0.57091 to 0.56061, saving model to checkpoint.h5\n"
     ]
    },
    {
     "data": {
      "text/plain": [
       "<keras.callbacks.History at 0x7fc95b1d16d0>"
      ]
     },
     "execution_count": 10,
     "metadata": {},
     "output_type": "execute_result"
    }
   ],
   "source": [
    "train_steps = 100000//64\n",
    "valid_steps = 20000//64\n",
    "\n",
    "model.fit(\n",
    "    train_flow,\n",
    "    epochs=25,\n",
    "    callbacks = callbacks,\n",
    "    steps_per_epoch=train_steps,\n",
    "    validation_data=valid_flow,\n",
    "    validation_steps=valid_steps\n",
    ")"
   ]
  },
  {
   "cell_type": "code",
   "execution_count": 11,
   "id": "bb5b89d0",
   "metadata": {
    "_cell_guid": "0963d61b-890e-4d3f-86c5-1c7b6bca2622",
    "_uuid": "9d49ce42-35c0-49b4-8d8f-b2e9c35d3608",
    "collapsed": false,
    "execution": {
     "iopub.execute_input": "2022-08-03T12:12:21.208754Z",
     "iopub.status.busy": "2022-08-03T12:12:21.208272Z",
     "iopub.status.idle": "2022-08-03T12:12:42.213771Z",
     "shell.execute_reply": "2022-08-03T12:12:42.212960Z"
    },
    "jupyter": {
     "outputs_hidden": false
    },
    "papermill": {
     "duration": 23.156425,
     "end_time": "2022-08-03T12:12:42.217086",
     "exception": false,
     "start_time": "2022-08-03T12:12:19.060661",
     "status": "completed"
    },
    "tags": []
   },
   "outputs": [
    {
     "name": "stderr",
     "output_type": "stream",
     "text": [
      "2022-08-03 12:12:28.917146: W tensorflow/python/util/util.cc:348] Sets are not currently considered sequences, but this may change in the future, so consider avoiding using them.\n",
      "/opt/conda/lib/python3.7/site-packages/keras/utils/generic_utils.py:497: CustomMaskWarning: Custom mask layers require a config and must override get_config. When loading, the custom mask layer must be passed to the custom_objects argument.\n",
      "  category=CustomMaskWarning)\n"
     ]
    }
   ],
   "source": [
    "model.save('./deepfake_models')"
   ]
  },
  {
   "cell_type": "code",
   "execution_count": 12,
   "id": "c7dbf30d",
   "metadata": {
    "_cell_guid": "ad874491-cf56-4ae4-b750-a847cba15d53",
    "_uuid": "33e850d5-6250-47bd-8d6f-d1ecd4d52598",
    "collapsed": false,
    "execution": {
     "iopub.execute_input": "2022-08-03T12:12:46.443924Z",
     "iopub.status.busy": "2022-08-03T12:12:46.443520Z",
     "iopub.status.idle": "2022-08-03T12:12:46.447776Z",
     "shell.execute_reply": "2022-08-03T12:12:46.446859Z"
    },
    "jupyter": {
     "outputs_hidden": false
    },
    "papermill": {
     "duration": 2.075321,
     "end_time": "2022-08-03T12:12:46.450056",
     "exception": false,
     "start_time": "2022-08-03T12:12:44.374735",
     "status": "completed"
    },
    "tags": []
   },
   "outputs": [],
   "source": [
    "# model = load_model('../input/trainedmodel/deepfake_models/')\n",
    "# model.summary()"
   ]
  },
  {
   "cell_type": "code",
   "execution_count": 13,
   "id": "5d2ba3cd",
   "metadata": {
    "_cell_guid": "99297d6e-52b9-4f07-89db-bdd15c0a2dae",
    "_uuid": "8574f713-16d8-4a2f-b1d1-48b996219d80",
    "collapsed": false,
    "execution": {
     "iopub.execute_input": "2022-08-03T12:12:51.162279Z",
     "iopub.status.busy": "2022-08-03T12:12:51.161424Z",
     "iopub.status.idle": "2022-08-03T12:17:13.798228Z",
     "shell.execute_reply": "2022-08-03T12:17:13.797304Z"
    },
    "jupyter": {
     "outputs_hidden": false
    },
    "papermill": {
     "duration": 266.950199,
     "end_time": "2022-08-03T12:17:15.845271",
     "exception": false,
     "start_time": "2022-08-03T12:12:48.895072",
     "status": "completed"
    },
    "tags": []
   },
   "outputs": [
    {
     "name": "stdout",
     "output_type": "stream",
     "text": [
      "313/313 [==============================] - 218s 697ms/step - loss: 0.5638 - accuracy: 0.7308\n",
      "Final Test Acccuracy = 73.075\n"
     ]
    }
   ],
   "source": [
    "_, accu = model.evaluate(test_flow)\n",
    "print('Final Test Acccuracy = {:.3f}'.format(accu*100))"
   ]
  },
  {
   "cell_type": "code",
   "execution_count": 14,
   "id": "0d888d30",
   "metadata": {
    "_cell_guid": "a644a9ed-79df-42a6-b380-b2d2a528c484",
    "_uuid": "948aa986-0051-405b-b04f-e1f5e3bd8246",
    "collapsed": false,
    "execution": {
     "iopub.execute_input": "2022-08-03T12:17:20.094069Z",
     "iopub.status.busy": "2022-08-03T12:17:20.093510Z",
     "iopub.status.idle": "2022-08-03T12:18:33.273777Z",
     "shell.execute_reply": "2022-08-03T12:18:33.272840Z"
    },
    "jupyter": {
     "outputs_hidden": false
    },
    "papermill": {
     "duration": 75.231204,
     "end_time": "2022-08-03T12:18:33.276215",
     "exception": false,
     "start_time": "2022-08-03T12:17:18.045011",
     "status": "completed"
    },
    "tags": []
   },
   "outputs": [],
   "source": [
    "y_pred = model.predict(test_flow)\n",
    "y_test = test_flow.classes"
   ]
  },
  {
   "cell_type": "code",
   "execution_count": 15,
   "id": "55c6281d",
   "metadata": {
    "_cell_guid": "0789b2e2-988c-4455-8d12-d2375c54dd1e",
    "_uuid": "27bdee02-6050-4113-9445-c60249d720f3",
    "collapsed": false,
    "execution": {
     "iopub.execute_input": "2022-08-03T12:18:38.097233Z",
     "iopub.status.busy": "2022-08-03T12:18:38.096761Z",
     "iopub.status.idle": "2022-08-03T12:18:38.144704Z",
     "shell.execute_reply": "2022-08-03T12:18:38.143579Z"
    },
    "jupyter": {
     "outputs_hidden": false
    },
    "papermill": {
     "duration": 2.555292,
     "end_time": "2022-08-03T12:18:38.146547",
     "exception": false,
     "start_time": "2022-08-03T12:18:35.591255",
     "status": "completed"
    },
    "tags": []
   },
   "outputs": [
    {
     "name": "stdout",
     "output_type": "stream",
     "text": [
      "ROC AUC Score: 0.5008561300000001\n",
      "AP Score: 0.5030172749931522\n",
      "\n",
      "              precision    recall  f1-score   support\n",
      "\n",
      "           0       0.50      0.53      0.52     10000\n",
      "           1       0.50      0.47      0.49     10000\n",
      "\n",
      "    accuracy                           0.50     20000\n",
      "   macro avg       0.50      0.50      0.50     20000\n",
      "weighted avg       0.50      0.50      0.50     20000\n",
      "\n"
     ]
    }
   ],
   "source": [
    "print(\"ROC AUC Score:\", metrics.roc_auc_score(y_test, y_pred))\n",
    "print(\"AP Score:\", metrics.average_precision_score(y_test, y_pred))\n",
    "print()\n",
    "print(metrics.classification_report(y_test, y_pred > 0.5))"
   ]
  }
 ],
 "metadata": {
  "kernelspec": {
   "display_name": "Python 3",
   "language": "python",
   "name": "python3"
  },
  "language_info": {
   "codemirror_mode": {
    "name": "ipython",
    "version": 3
   },
   "file_extension": ".py",
   "mimetype": "text/x-python",
   "name": "python",
   "nbconvert_exporter": "python",
   "pygments_lexer": "ipython3",
   "version": "3.7.12"
  },
  "papermill": {
   "default_parameters": {},
   "duration": 33507.715336,
   "end_time": "2022-08-03T12:18:43.909049",
   "environment_variables": {},
   "exception": null,
   "input_path": "__notebook__.ipynb",
   "output_path": "__notebook__.ipynb",
   "parameters": {},
   "start_time": "2022-08-03T03:00:16.193713",
   "version": "2.3.4"
  }
 },
 "nbformat": 4,
 "nbformat_minor": 5
}
